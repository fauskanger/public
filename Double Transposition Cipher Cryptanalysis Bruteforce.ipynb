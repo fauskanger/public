{
 "cells": [
  {
   "cell_type": "code",
   "execution_count": null,
   "metadata": {
    "collapsed": true
   },
   "outputs": [],
   "source": [
    "from itertools import permutations"
   ]
  },
  {
   "cell_type": "code",
   "execution_count": null,
   "metadata": {
    "collapsed": true
   },
   "outputs": [],
   "source": [
    "fasit = 'THEREARESOMEWHOSAYTHATCOMMUNISMISTHEWAVEOFTHEFUTURELETTHEMCOMETOBERLIN'"
   ]
  },
  {
   "cell_type": "code",
   "execution_count": null,
   "metadata": {
    "collapsed": true
   },
   "outputs": [],
   "source": [
    "l = list('IAUTMOCSMNIMREBOTNELSTRHEREOAEVMWIHTSEEATMAEOHWHSYCEELTTEOHMUOUFEHTRFT')"
   ]
  },
  {
   "cell_type": "code",
   "execution_count": null,
   "metadata": {
    "collapsed": true
   },
   "outputs": [],
   "source": [
    "for i in range(7):\n",
    "    print(''.join(l[i*10: i*10 + 10]))"
   ]
  },
  {
   "cell_type": "code",
   "execution_count": null,
   "metadata": {
    "collapsed": true
   },
   "outputs": [],
   "source": [
    "rows = []\n",
    "\n",
    "'THEREARESO'  # want\n",
    "'13ere8re07'\n",
    "'STRHEREOAE'  # is\n",
    "'0123456789'\n",
    "'--R-ERE--E'\n",
    "\n",
    "e_ixs = 4, 6, 9\n",
    "r_ixs = 2, 5\n",
    "\n",
    "for i in range(7):\n",
    "    row_l = []\n",
    "    row = l[i*10:i*10+10]\n",
    "    for rp in permutations(r_ixs, 2):\n",
    "        for ep in permutations(e_ixs, 3):\n",
    "            r1, r2 = rp\n",
    "            e1, e2, e3 = ep\n",
    "            colixs = [1, 3, e1, r1, e2, 8, r2, e3, 0, 7]\n",
    "            txt = ''.join(row[ix] for ix in colixs)\n",
    "            row_l.append((txt, colixs))\n",
    "    rows.append(row_l)\n",
    "\n",
    "    \n",
    "for x in zip(*rows):\n",
    "    ixs = list(range(7))\n",
    "    txts, colixs = zip(*x)\n",
    "    for p in permutations(ixs, 7):\n",
    "        txt = ''.join(txts[ix] for ix in p)\n",
    "        if txt == fasit:\n",
    "            print('Row index order:\\n {}'.format(p))\n",
    "            print('Column index order:\\n {}\\n'.format(colixs[0]))\n",
    "            print(txt)\n",
    "            for i in range(7):\n",
    "                print(txt[10*i: 10*i + 10])"
   ]
  }
 ],
 "metadata": {
  "kernelspec": {
   "display_name": "Python 3.5 (ml)",
   "language": "python",
   "name": "ml"
  },
  "language_info": {
   "codemirror_mode": {
    "name": "ipython",
    "version": 3
   },
   "file_extension": ".py",
   "mimetype": "text/x-python",
   "name": "python",
   "nbconvert_exporter": "python",
   "pygments_lexer": "ipython3",
   "version": "3.5.4"
  }
 },
 "nbformat": 4,
 "nbformat_minor": 2
}
