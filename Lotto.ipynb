{
 "cells": [
  {
   "cell_type": "code",
   "execution_count": 1,
   "metadata": {},
   "outputs": [
    {
     "name": "stdout",
     "output_type": "stream",
     "text": [
      "3.5.3 | packaged by conda-forge | (default, May 12 2017, 16:16:49) [MSC v.1900 64 bit (AMD64)]\n"
     ]
    }
   ],
   "source": [
    "# Python version\n",
    "import sys\n",
    "print(sys.version)"
   ]
  },
  {
   "cell_type": "code",
   "execution_count": 2,
   "metadata": {
    "collapsed": true
   },
   "outputs": [],
   "source": [
    "import os\n",
    "import math\n",
    "import locale\n",
    "import itertools\n",
    "\n",
    "from scipy import special\n",
    "import pandas as pd\n",
    "import numpy as np\n",
    "import seaborn as sns\n",
    "\n",
    "import matplotlib\n",
    "import matplotlib.pyplot as plt"
   ]
  },
  {
   "cell_type": "code",
   "execution_count": 3,
   "metadata": {
    "collapsed": true
   },
   "outputs": [],
   "source": [
    "# matplotlib.style.use('ggplot')\n",
    "%matplotlib inline "
   ]
  },
  {
   "cell_type": "code",
   "execution_count": 4,
   "metadata": {},
   "outputs": [
    {
     "data": {
      "text/plain": [
       "'English_United States.1252'"
      ]
     },
     "execution_count": 4,
     "metadata": {},
     "output_type": "execute_result"
    }
   ],
   "source": [
    "locale.setlocale(locale.LC_ALL, '')\n",
    "# locale.setlocale(locale.LC_ALL, 'no')"
   ]
  },
  {
   "cell_type": "code",
   "execution_count": 5,
   "metadata": {
    "collapsed": true
   },
   "outputs": [],
   "source": [
    "def nCr(N, k):\n",
    "    return special.comb(N, k, exact=True)"
   ]
  },
  {
   "cell_type": "code",
   "execution_count": 6,
   "metadata": {
    "collapsed": true
   },
   "outputs": [],
   "source": [
    "def chance_of_not_among(N, k, total):\n",
    "    \"\"\"Chance of k draws from total is not among N items\"\"\"\n",
    "    if N >= total - k + 1:\n",
    "        return 0\n",
    "    return np.product([1 - N/remaining for remaining in range(total-k+1, total+1)])"
   ]
  },
  {
   "cell_type": "code",
   "execution_count": 7,
   "metadata": {
    "collapsed": true
   },
   "outputs": [],
   "source": [
    "def chance_of_all_among(N, k):\n",
    "    \"\"\"Chance of getting k successes from N\"\"\"\n",
    "    return 1/nCr(N, k)"
   ]
  },
  {
   "cell_type": "code",
   "execution_count": 8,
   "metadata": {
    "collapsed": true
   },
   "outputs": [],
   "source": [
    "def get_probabilities_for(N):\n",
    "    \"\"\"Retrieve chance of all N excluded, and chance of winning then.\"\"\"\n",
    "    p_a = chance_of_not_among(N, 7, 34)\n",
    "    p_b = chance_of_all_among(34-N, 7)\n",
    "    return p_a, p_b"
   ]
  },
  {
   "cell_type": "code",
   "execution_count": 9,
   "metadata": {
    "collapsed": true
   },
   "outputs": [],
   "source": [
    "def test():\n",
    "    N = 27\n",
    "    k = 7\n",
    "    t = total = 34\n",
    "    p1 = chance_of_not_among(N,k,total)\n",
    "    \n",
    "    # Use to verify chance_of_not_among\n",
    "    alpha = 'abcdefghijklmnopqrstuvwxyzABCDEFGHIJKLMNOPQRSTUVWXYZ'\n",
    "    abc = list(itertools.combinations(alpha[:total],k))\n",
    "    excluded = alpha[:N]\n",
    "    p2 = sum(1 if not any(c in excluded for c in combo) else 0 for combo in abc)/len(abc)\n",
    "    \n",
    "    p3 = chance_of_all_among(34, 7)\n",
    "    print(p1, p2, p3)"
   ]
  },
  {
   "cell_type": "code",
   "execution_count": 10,
   "metadata": {},
   "outputs": [
    {
     "name": "stdout",
     "output_type": "stream",
     "text": [
      "1.8588687371e-07 1.858868737099451e-07 1.858868737099451e-07\n"
     ]
    }
   ],
   "source": [
    "if True:\n",
    "    test()"
   ]
  },
  {
   "cell_type": "code",
   "execution_count": 11,
   "metadata": {},
   "outputs": [
    {
     "name": "stdout",
     "output_type": "stream",
     "text": [
      "Number of combinations:            5,379,616\n",
      "Probability of success:   0.0000001858868737\n"
     ]
    }
   ],
   "source": [
    "n_combinations = nCr(34, 7)\n",
    "odds = 1/n_combinations\n",
    "\n",
    "print('Number of combinations: {:>20n}'.format(n_combinations))\n",
    "print('Probability of success: {:>20.16f}'.format(odds))"
   ]
  },
  {
   "cell_type": "code",
   "execution_count": 12,
   "metadata": {
    "collapsed": true
   },
   "outputs": [],
   "source": [
    "df = pd.DataFrame((get_probabilities_for(N) for N in range(28)), columns=['p_a', 'p_b'])\n",
    "df.index.name = 'N'"
   ]
  },
  {
   "cell_type": "code",
   "execution_count": 13,
   "metadata": {},
   "outputs": [
    {
     "data": {
      "text/html": [
       "<div>\n",
       "<style>\n",
       "    .dataframe thead tr:only-child th {\n",
       "        text-align: right;\n",
       "    }\n",
       "\n",
       "    .dataframe thead th {\n",
       "        text-align: left;\n",
       "    }\n",
       "\n",
       "    .dataframe tbody tr th {\n",
       "        vertical-align: top;\n",
       "    }\n",
       "</style>\n",
       "<table border=\"1\" class=\"dataframe\">\n",
       "  <thead>\n",
       "    <tr style=\"text-align: right;\">\n",
       "      <th></th>\n",
       "      <th>p_a</th>\n",
       "      <th>p_b</th>\n",
       "      <th>p_ab</th>\n",
       "    </tr>\n",
       "    <tr>\n",
       "      <th>N</th>\n",
       "      <th></th>\n",
       "      <th></th>\n",
       "      <th></th>\n",
       "    </tr>\n",
       "  </thead>\n",
       "  <tbody>\n",
       "    <tr>\n",
       "      <th>0</th>\n",
       "      <td>1.000000e+00</td>\n",
       "      <td>1.858869e-07</td>\n",
       "      <td>1.858869e-07</td>\n",
       "    </tr>\n",
       "    <tr>\n",
       "      <th>1</th>\n",
       "      <td>7.941176e-01</td>\n",
       "      <td>2.340798e-07</td>\n",
       "      <td>1.858869e-07</td>\n",
       "    </tr>\n",
       "    <tr>\n",
       "      <th>2</th>\n",
       "      <td>6.256684e-01</td>\n",
       "      <td>2.971012e-07</td>\n",
       "      <td>1.858869e-07</td>\n",
       "    </tr>\n",
       "    <tr>\n",
       "      <th>3</th>\n",
       "      <td>4.888035e-01</td>\n",
       "      <td>3.802896e-07</td>\n",
       "      <td>1.858869e-07</td>\n",
       "    </tr>\n",
       "    <tr>\n",
       "      <th>4</th>\n",
       "      <td>3.784285e-01</td>\n",
       "      <td>4.912074e-07</td>\n",
       "      <td>1.858869e-07</td>\n",
       "    </tr>\n",
       "    <tr>\n",
       "      <th>5</th>\n",
       "      <td>2.901285e-01</td>\n",
       "      <td>6.407053e-07</td>\n",
       "      <td>1.858869e-07</td>\n",
       "    </tr>\n",
       "    <tr>\n",
       "      <th>6</th>\n",
       "      <td>2.200975e-01</td>\n",
       "      <td>8.445661e-07</td>\n",
       "      <td>1.858869e-07</td>\n",
       "    </tr>\n",
       "    <tr>\n",
       "      <th>7</th>\n",
       "      <td>1.650731e-01</td>\n",
       "      <td>1.126088e-06</td>\n",
       "      <td>1.858869e-07</td>\n",
       "    </tr>\n",
       "    <tr>\n",
       "      <th>8</th>\n",
       "      <td>1.222764e-01</td>\n",
       "      <td>1.520219e-06</td>\n",
       "      <td>1.858869e-07</td>\n",
       "    </tr>\n",
       "    <tr>\n",
       "      <th>9</th>\n",
       "      <td>8.935582e-02</td>\n",
       "      <td>2.080300e-06</td>\n",
       "      <td>1.858869e-07</td>\n",
       "    </tr>\n",
       "    <tr>\n",
       "      <th>10</th>\n",
       "      <td>6.433619e-02</td>\n",
       "      <td>2.889305e-06</td>\n",
       "      <td>1.858869e-07</td>\n",
       "    </tr>\n",
       "    <tr>\n",
       "      <th>11</th>\n",
       "      <td>4.557147e-02</td>\n",
       "      <td>4.079019e-06</td>\n",
       "      <td>1.858869e-07</td>\n",
       "    </tr>\n",
       "    <tr>\n",
       "      <th>12</th>\n",
       "      <td>3.170189e-02</td>\n",
       "      <td>5.863589e-06</td>\n",
       "      <td>1.858869e-07</td>\n",
       "    </tr>\n",
       "    <tr>\n",
       "      <th>13</th>\n",
       "      <td>2.161493e-02</td>\n",
       "      <td>8.599931e-06</td>\n",
       "      <td>1.858869e-07</td>\n",
       "    </tr>\n",
       "    <tr>\n",
       "      <th>14</th>\n",
       "      <td>1.440995e-02</td>\n",
       "      <td>1.289990e-05</td>\n",
       "      <td>1.858869e-07</td>\n",
       "    </tr>\n",
       "    <tr>\n",
       "      <th>15</th>\n",
       "      <td>9.366468e-03</td>\n",
       "      <td>1.984600e-05</td>\n",
       "      <td>1.858869e-07</td>\n",
       "    </tr>\n",
       "    <tr>\n",
       "      <th>16</th>\n",
       "      <td>5.915664e-03</td>\n",
       "      <td>3.142283e-05</td>\n",
       "      <td>1.858869e-07</td>\n",
       "    </tr>\n",
       "    <tr>\n",
       "      <th>17</th>\n",
       "      <td>3.615128e-03</td>\n",
       "      <td>5.141917e-05</td>\n",
       "      <td>1.858869e-07</td>\n",
       "    </tr>\n",
       "    <tr>\n",
       "      <th>18</th>\n",
       "      <td>2.126546e-03</td>\n",
       "      <td>8.741259e-05</td>\n",
       "      <td>1.858869e-07</td>\n",
       "    </tr>\n",
       "    <tr>\n",
       "      <th>19</th>\n",
       "      <td>1.196182e-03</td>\n",
       "      <td>1.554002e-04</td>\n",
       "      <td>1.858869e-07</td>\n",
       "    </tr>\n",
       "    <tr>\n",
       "      <th>20</th>\n",
       "      <td>6.379638e-04</td>\n",
       "      <td>2.913753e-04</td>\n",
       "      <td>1.858869e-07</td>\n",
       "    </tr>\n",
       "    <tr>\n",
       "      <th>21</th>\n",
       "      <td>3.189819e-04</td>\n",
       "      <td>5.827506e-04</td>\n",
       "      <td>1.858869e-07</td>\n",
       "    </tr>\n",
       "    <tr>\n",
       "      <th>22</th>\n",
       "      <td>1.472224e-04</td>\n",
       "      <td>1.262626e-03</td>\n",
       "      <td>1.858869e-07</td>\n",
       "    </tr>\n",
       "    <tr>\n",
       "      <th>23</th>\n",
       "      <td>6.134267e-05</td>\n",
       "      <td>3.030303e-03</td>\n",
       "      <td>1.858869e-07</td>\n",
       "    </tr>\n",
       "    <tr>\n",
       "      <th>24</th>\n",
       "      <td>2.230642e-05</td>\n",
       "      <td>8.333333e-03</td>\n",
       "      <td>1.858869e-07</td>\n",
       "    </tr>\n",
       "    <tr>\n",
       "      <th>25</th>\n",
       "      <td>6.691927e-06</td>\n",
       "      <td>2.777778e-02</td>\n",
       "      <td>1.858869e-07</td>\n",
       "    </tr>\n",
       "    <tr>\n",
       "      <th>26</th>\n",
       "      <td>1.487095e-06</td>\n",
       "      <td>1.250000e-01</td>\n",
       "      <td>1.858869e-07</td>\n",
       "    </tr>\n",
       "    <tr>\n",
       "      <th>27</th>\n",
       "      <td>1.858869e-07</td>\n",
       "      <td>1.000000e+00</td>\n",
       "      <td>1.858869e-07</td>\n",
       "    </tr>\n",
       "  </tbody>\n",
       "</table>\n",
       "</div>"
      ],
      "text/plain": [
       "             p_a           p_b          p_ab\n",
       "N                                           \n",
       "0   1.000000e+00  1.858869e-07  1.858869e-07\n",
       "1   7.941176e-01  2.340798e-07  1.858869e-07\n",
       "2   6.256684e-01  2.971012e-07  1.858869e-07\n",
       "3   4.888035e-01  3.802896e-07  1.858869e-07\n",
       "4   3.784285e-01  4.912074e-07  1.858869e-07\n",
       "5   2.901285e-01  6.407053e-07  1.858869e-07\n",
       "6   2.200975e-01  8.445661e-07  1.858869e-07\n",
       "7   1.650731e-01  1.126088e-06  1.858869e-07\n",
       "8   1.222764e-01  1.520219e-06  1.858869e-07\n",
       "9   8.935582e-02  2.080300e-06  1.858869e-07\n",
       "10  6.433619e-02  2.889305e-06  1.858869e-07\n",
       "11  4.557147e-02  4.079019e-06  1.858869e-07\n",
       "12  3.170189e-02  5.863589e-06  1.858869e-07\n",
       "13  2.161493e-02  8.599931e-06  1.858869e-07\n",
       "14  1.440995e-02  1.289990e-05  1.858869e-07\n",
       "15  9.366468e-03  1.984600e-05  1.858869e-07\n",
       "16  5.915664e-03  3.142283e-05  1.858869e-07\n",
       "17  3.615128e-03  5.141917e-05  1.858869e-07\n",
       "18  2.126546e-03  8.741259e-05  1.858869e-07\n",
       "19  1.196182e-03  1.554002e-04  1.858869e-07\n",
       "20  6.379638e-04  2.913753e-04  1.858869e-07\n",
       "21  3.189819e-04  5.827506e-04  1.858869e-07\n",
       "22  1.472224e-04  1.262626e-03  1.858869e-07\n",
       "23  6.134267e-05  3.030303e-03  1.858869e-07\n",
       "24  2.230642e-05  8.333333e-03  1.858869e-07\n",
       "25  6.691927e-06  2.777778e-02  1.858869e-07\n",
       "26  1.487095e-06  1.250000e-01  1.858869e-07\n",
       "27  1.858869e-07  1.000000e+00  1.858869e-07"
      ]
     },
     "execution_count": 13,
     "metadata": {},
     "output_type": "execute_result"
    }
   ],
   "source": [
    "df['p_ab'] = df.p_a * df.p_b\n",
    "df"
   ]
  },
  {
   "cell_type": "code",
   "execution_count": 14,
   "metadata": {
    "collapsed": true
   },
   "outputs": [],
   "source": [
    "def resize_text(ax, labelsize, titlesize, ticksize=None):\n",
    "    ticksize = ticksize or labelsize\n",
    "    for ticklabel in (ax.get_xticklabels()):\n",
    "        ticklabel.set_fontsize(ticksize)\n",
    "    for ticklabel in (ax.get_yticklabels()):\n",
    "        ticklabel.set_fontsize(ticksize)\n",
    "    ax.xaxis.get_label().set_fontsize(labelsize)\n",
    "    ax.yaxis.get_label().set_fontsize(labelsize)\n",
    "    ax.title.set_fontsize(titlesize)    "
   ]
  },
  {
   "cell_type": "code",
   "execution_count": 16,
   "metadata": {},
   "outputs": [
    {
     "data": {
      "image/png": "[encoded data removed]",
      "text/plain": [
       "<matplotlib.figure.Figure at 0x18b9f61b588>"
      ]
     },
     "metadata": {},
     "output_type": "display_data"
    }
   ],
   "source": [
    "title = 'A: A set of N balls will not be drawn.\\n' \\\n",
    "        'B: Success among 34-N remaining balls.\\n' \\\n",
    "        'If both A and B is success: win.'\n",
    "ax = df.plot(logy=True, figsize=(16,12), kind='bar', title=title, rot=0)\n",
    "ax.set_ylabel('Probability')\n",
    "resize_text(ax, 14, 14, 12)\n",
    "\n",
    "ax.legend(['P(A)', 'P(B)', 'P(A)·P(B)'], fontsize=14)\n",
    "# ax.set_xticklabels(ax.get_xticklabels(), rotation=0)\n",
    "# plt.xticks(rotation=0)\n",
    "\n",
    "indicator_args = dict(linestyle='--', alpha=0.5)\n",
    "ax.plot(df.p_a, **indicator_args)\n",
    "ax.plot(df.p_b, **indicator_args)\n",
    "ax.plot(df.p_ab, **indicator_args)\n",
    "\n",
    "fig = plt.gcf()\n",
    "\n",
    "fig.savefig(os.path.join('img', 'lotto N.png'), facecolor='white', edgecolor='none')"
   ]
  },
  {
   "cell_type": "code",
   "execution_count": null,
   "metadata": {
    "collapsed": true
   },
   "outputs": [],
   "source": []
  }
 ],
 "metadata": {
  "kernelspec": {
   "display_name": "Python 3 (strict)",
   "language": "python",
   "name": "strict"
  },
  "language_info": {
   "codemirror_mode": {
    "name": "ipython",
    "version": 3
   },
   "file_extension": ".py",
   "mimetype": "text/x-python",
   "name": "python",
   "nbconvert_exporter": "python",
   "pygments_lexer": "ipython3",
   "version": "3.5.3"
  }
 },
 "nbformat": 4,
 "nbformat_minor": 2
}
