{
 "cells": [
  {
   "cell_type": "code",
   "execution_count": 1,
   "metadata": {
    "ExecuteTime": {
     "end_time": "2018-12-28T02:55:11.659635Z",
     "start_time": "2018-12-28T02:55:08.333926Z"
    },
    "collapsed": true
   },
   "outputs": [],
   "source": [
    "import requests\n",
    "import pandas as pd\n",
    "from bs4 import BeautifulSoup\n",
    "from pathlib import Path"
   ]
  },
  {
   "cell_type": "code",
   "execution_count": 2,
   "metadata": {
    "ExecuteTime": {
     "end_time": "2018-12-28T02:55:11.675594Z",
     "start_time": "2018-12-28T02:55:11.667614Z"
    },
    "collapsed": true
   },
   "outputs": [],
   "source": [
    "# Disable cell text truncation\n",
    "pd.set_option('display.max_colwidth', -1)"
   ]
  },
  {
   "cell_type": "code",
   "execution_count": 3,
   "metadata": {
    "ExecuteTime": {
     "end_time": "2018-12-28T02:55:12.708028Z",
     "start_time": "2018-12-28T02:55:11.688636Z"
    },
    "collapsed": true
   },
   "outputs": [],
   "source": [
    "# Markdown output file\n",
    "md_file_path = Path('output') / 'amld_workshop_schedule.md'\n",
    "md_file_path_w_prereqs = Path('output') / 'amld_workshop_schedule_w_prereqs.md'\n",
    "\n",
    "base_url = 'https://www.appliedmldays.org'\n",
    "front_url = f'{base_url}/workshops.html'\n",
    "\n",
    "r = requests.get(front_url)\n",
    "front_soup = BeautifulSoup(r.text)"
   ]
  },
  {
   "cell_type": "code",
   "execution_count": 4,
   "metadata": {
    "ExecuteTime": {
     "end_time": "2018-12-28T02:55:12.756009Z",
     "start_time": "2018-12-28T02:55:12.715027Z"
    },
    "collapsed": true
   },
   "outputs": [],
   "source": [
    "def get_time_from_soup(soup):\n",
    "    h1 = soup.select_one('.masthead-text').find('h1')\n",
    "    h1.find('strong').clear()\n",
    "    time_str = h1.text.strip()\n",
    "    parts = time_str.split()\n",
    "    if len(parts) > 2:\n",
    "        return ''.join(parts[:-2]), ' '.join(parts[-2:])\n",
    "    return '', time_str\n",
    "\n",
    "free = '-' * 3\n",
    "busy = '█' * 3\n",
    "\n",
    "def get_timeline_blocks(time):\n",
    "    start, end = (int(v.split(':',1)[0]) for v in time.split('-'))\n",
    "    tl = ''\n",
    "    tl += free if start > 10 else busy\n",
    "    tl += free if end < 13 else busy\n",
    "    return tl\n",
    "\n",
    "def get_level_from_soup(soup):\n",
    "    badge = soup.select_one('.badge-grey')\n",
    "    return badge.text.split()[0] if badge is not None else ''\n",
    "\n",
    "def get_prerequisites_from_soup(soup):\n",
    "    try:\n",
    "        return [li.text.strip() for li in soup.find('h3', text='Prerequisites').findNext('ul').findAll('li')]\n",
    "    except AttributeError:\n",
    "        # One or more of the elements are None\n",
    "        return []\n",
    "    \n",
    "def get_prerequisite_html_from(prerequisites):\n",
    "    if not prerequisites:\n",
    "        return ''\n",
    "    lis = '</li><li>'.join(f' - {p}' for p in prerequisites)\n",
    "    return f'<ul><li>{ lis }</li></ul>'\n",
    "\n",
    "def generate_rows():\n",
    "    for workshop_title in front_soup.find_all(class_='track-name'):\n",
    "        title = workshop_title.text\n",
    "        a = workshop_title.parent\n",
    "        url = a.attrs.get('href')\n",
    "        url = f'{base_url}{url}'\n",
    "        ws_soup = BeautifulSoup(requests.get(url).text)\n",
    "        time, date = get_time_from_soup(ws_soup)\n",
    "        level = get_level_from_soup(ws_soup)\n",
    "        prerequisites = get_prerequisites_from_soup(ws_soup)\n",
    "        timeline = get_timeline_blocks(time)\n",
    "        is_full_day = timeline[0] == timeline[-1]\n",
    "        level_nr = 1 if level.lower().startswith('be') else 2 if level.lower().startswith('in') else 3\n",
    "        yield timeline, time, date, title, level, prerequisites, url, is_full_day, level_nr"
   ]
  },
  {
   "cell_type": "code",
   "execution_count": 5,
   "metadata": {
    "ExecuteTime": {
     "end_time": "2018-12-28T02:55:12.813005Z",
     "start_time": "2018-12-28T02:55:12.775016Z"
    }
   },
   "outputs": [],
   "source": [
    "# bss = '▀ ▁ ▂ ▃ ▄ ▅ ▆ ▇ █ ▉ ▊ ▋ ▌ ▍ ▎ ▏'.split()\n",
    "# bn = '█ ▀ ▄'\n",
    "\n",
    "# for bi, b in enumerate(bss):\n",
    "#     print(bn)\n",
    "#     print(b * 5, bi, b)\n",
    "#     print('')\n"
   ]
  },
  {
   "cell_type": "code",
   "execution_count": 6,
   "metadata": {
    "ExecuteTime": {
     "end_time": "2018-12-28T02:55:25.527681Z",
     "start_time": "2018-12-28T02:55:12.825009Z"
    }
   },
   "outputs": [],
   "source": [
    "df = pd.DataFrame(generate_rows(), columns=[\n",
    "    'Timeline', 'Time', 'Date', 'Title', 'Level', 'Prerequsites', 'Link', 'FullDay', 'LevelNo'\n",
    "])"
   ]
  },
  {
   "cell_type": "code",
   "execution_count": 7,
   "metadata": {
    "ExecuteTime": {
     "end_time": "2018-12-28T02:55:25.656628Z",
     "start_time": "2018-12-28T02:55:25.535656Z"
    }
   },
   "outputs": [
    {
     "data": {
      "text/html": [
       "<div>\n",
       "<style scoped>\n",
       "    .dataframe tbody tr th:only-of-type {\n",
       "        vertical-align: middle;\n",
       "    }\n",
       "\n",
       "    .dataframe tbody tr th {\n",
       "        vertical-align: top;\n",
       "    }\n",
       "\n",
       "    .dataframe thead th {\n",
       "        text-align: right;\n",
       "    }\n",
       "</style>\n",
       "<table border=\"1\" class=\"dataframe\">\n",
       "  <thead>\n",
       "    <tr style=\"text-align: right;\">\n",
       "      <th></th>\n",
       "      <th>Timeline</th>\n",
       "      <th>Time</th>\n",
       "      <th>Date</th>\n",
       "      <th>Title</th>\n",
       "      <th>Level</th>\n",
       "      <th>Prerequsites</th>\n",
       "      <th>Link</th>\n",
       "      <th>FullDay</th>\n",
       "      <th>LevelNo</th>\n",
       "    </tr>\n",
       "  </thead>\n",
       "  <tbody>\n",
       "    <tr>\n",
       "      <th>2</th>\n",
       "      <td>██████</td>\n",
       "      <td>09:00-16:30</td>\n",
       "      <td>January 26</td>\n",
       "      <td>Document Digitization Challenge</td>\n",
       "      <td>Beginner</td>\n",
       "      <td>[A laptop with Anaconda pre-installed, Python programming knowledge]</td>\n",
       "      <td>https://www.appliedmldays.org/workshops/document-digitization-challenge</td>\n",
       "      <td>True</td>\n",
       "      <td>1</td>\n",
       "    </tr>\n",
       "    <tr>\n",
       "      <th>5</th>\n",
       "      <td>██████</td>\n",
       "      <td>09:00-16:30</td>\n",
       "      <td>January 26</td>\n",
       "      <td>Data exploration and preparation for Machine Learning</td>\n",
       "      <td>Beginner</td>\n",
       "      <td>[Basic Python and statistics knowledge, Running Python installation on own laptop, and Jupyter Notebook installed]</td>\n",
       "      <td>https://www.appliedmldays.org/workshops/data-exploration-and-preparation-for-machine-learning</td>\n",
       "      <td>True</td>\n",
       "      <td>1</td>\n",
       "    </tr>\n",
       "    <tr>\n",
       "      <th>0</th>\n",
       "      <td>██████</td>\n",
       "      <td>09:00-16:30</td>\n",
       "      <td>January 26</td>\n",
       "      <td>TensorFlow Basics - Saturday</td>\n",
       "      <td>Intermediate</td>\n",
       "      <td>[good Python programming skills]</td>\n",
       "      <td>https://www.appliedmldays.org/workshops/tensorflow-basics-saturday</td>\n",
       "      <td>True</td>\n",
       "      <td>2</td>\n",
       "    </tr>\n",
       "    <tr>\n",
       "      <th>1</th>\n",
       "      <td>██████</td>\n",
       "      <td>09:00-16:30</td>\n",
       "      <td>January 26</td>\n",
       "      <td>TDA crash course: theory and practice for ML applications</td>\n",
       "      <td>Intermediate</td>\n",
       "      <td>[basic Python programming skills (laptop with Python 2.7/3 installed), basic Jupyter notebook skills, basic git/data management skills, notions of linear algebra and elementary topology are helpful but not needed]</td>\n",
       "      <td>https://www.appliedmldays.org/workshops/tda-crash-course-theory-and-practice-for-ml-applications</td>\n",
       "      <td>True</td>\n",
       "      <td>2</td>\n",
       "    </tr>\n",
       "    <tr>\n",
       "      <th>3</th>\n",
       "      <td>██████</td>\n",
       "      <td>09:00-16:30</td>\n",
       "      <td>January 26</td>\n",
       "      <td>Applied Machine Learning for Anomaly Detection on Equipment</td>\n",
       "      <td>Intermediate</td>\n",
       "      <td>[Intermediate level in ML and data science, Working knowledge in open source Python Machine Learning stack is preferred, but R and Matlab users welcome, No business knowledge or expertise required, Only Python can be deployed to the cloud]</td>\n",
       "      <td>https://www.appliedmldays.org/workshops/applied-machine-learning-for-anomaly-detection-on-equipment</td>\n",
       "      <td>True</td>\n",
       "      <td>2</td>\n",
       "    </tr>\n",
       "  </tbody>\n",
       "</table>\n",
       "</div>"
      ],
      "text/plain": [
       "  Timeline         Time        Date  \\\n",
       "2  ██████   09:00-16:30  January 26   \n",
       "5  ██████   09:00-16:30  January 26   \n",
       "0  ██████   09:00-16:30  January 26   \n",
       "1  ██████   09:00-16:30  January 26   \n",
       "3  ██████   09:00-16:30  January 26   \n",
       "\n",
       "                                                         Title         Level  \\\n",
       "2  Document Digitization Challenge                              Beginner       \n",
       "5  Data exploration and preparation for Machine Learning        Beginner       \n",
       "0  TensorFlow Basics - Saturday                                 Intermediate   \n",
       "1  TDA crash course: theory and practice for ML applications    Intermediate   \n",
       "3  Applied Machine Learning for Anomaly Detection on Equipment  Intermediate   \n",
       "\n",
       "                                                                                                                                                                                                                                      Prerequsites  \\\n",
       "2  [A laptop with Anaconda pre-installed, Python programming knowledge]                                                                                                                                                                              \n",
       "5  [Basic Python and statistics knowledge, Running Python installation on own laptop, and Jupyter Notebook installed]                                                                                                                                \n",
       "0  [good Python programming skills]                                                                                                                                                                                                                  \n",
       "1  [basic Python programming skills (laptop with Python 2.7/3 installed), basic Jupyter notebook skills, basic git/data management skills, notions of linear algebra and elementary topology are helpful but not needed]                             \n",
       "3  [Intermediate level in ML and data science, Working knowledge in open source Python Machine Learning stack is preferred, but R and Matlab users welcome, No business knowledge or expertise required, Only Python can be deployed to the cloud]   \n",
       "\n",
       "                                                                                                  Link  \\\n",
       "2  https://www.appliedmldays.org/workshops/document-digitization-challenge                               \n",
       "5  https://www.appliedmldays.org/workshops/data-exploration-and-preparation-for-machine-learning         \n",
       "0  https://www.appliedmldays.org/workshops/tensorflow-basics-saturday                                    \n",
       "1  https://www.appliedmldays.org/workshops/tda-crash-course-theory-and-practice-for-ml-applications      \n",
       "3  https://www.appliedmldays.org/workshops/applied-machine-learning-for-anomaly-detection-on-equipment   \n",
       "\n",
       "   FullDay  LevelNo  \n",
       "2  True     1        \n",
       "5  True     1        \n",
       "0  True     2        \n",
       "1  True     2        \n",
       "3  True     2        "
      ]
     },
     "execution_count": 7,
     "metadata": {},
     "output_type": "execute_result"
    }
   ],
   "source": [
    "sdf = df.sort_values(by=['Date', 'FullDay', 'Time', 'LevelNo'], ascending=[True, False, True, True])\n",
    "sdf.head()"
   ]
  },
  {
   "cell_type": "code",
   "execution_count": 8,
   "metadata": {
    "ExecuteTime": {
     "end_time": "2018-12-28T02:55:25.684628Z",
     "start_time": "2018-12-28T02:55:25.667638Z"
    },
    "collapsed": true
   },
   "outputs": [],
   "source": [
    "markdown_str = f\"\"\"\n",
    "## Applied Machine Learning Days 2018\n",
    "Table of workshops generated from [the overview page][ws]. \n",
    "\n",
    "Versions: [normal][n] | [with prerequisites][wp] \n",
    "\n",
    "\n",
    "\n",
    "\\[ For the curious on [how it was created][jnb] \\]\n",
    "\n",
    "[n]: ./{md_file_path.name}\n",
    "[wp]: ./{md_file_path_w_prereqs.name}\n",
    "[ws]: https://www.appliedmldays.org/workshops.html\n",
    "[jnb]: https://nbviewer.jupyter.org/github/fauskanger/public/blob/master/AppliedMachineLearningDaysWorkshopTableGenerator.ipynb\n",
    "\n",
    "\"\"\""
   ]
  },
  {
   "cell_type": "code",
   "execution_count": 9,
   "metadata": {
    "ExecuteTime": {
     "end_time": "2018-12-28T02:55:25.720639Z",
     "start_time": "2018-12-28T02:55:25.695638Z"
    },
    "collapsed": true
   },
   "outputs": [],
   "source": [
    "def create_md_table():\n",
    "    md_table = '| Timeline | Time | Date | Level | Title \\n'\n",
    "    md_table += '|---|---|---|---|---|\\n'\n",
    "    prev_date = None\n",
    "    for row in sdf.iterrows():\n",
    "        i, r = row\n",
    "        md_table += f'| `{r.Timeline}` | {r.Time} | {r.Date} | {r.Level} | [{r.Title}]({r.Link})| \\n'\n",
    "        if prev_date is not None and prev_date != r.Date:\n",
    "            md_table += '| | | | | |\\n'\n",
    "        prev_date = r.Date\n",
    "    return md_table\n",
    "\n",
    "def create_md_table_with_prereqs(use_br=True):\n",
    "    md_table = '| Timeline | Time | Date | Level | Title | Prerequisites \\n'\n",
    "    md_table += '|---|---|---|---|---|---|\\n'\n",
    "    prev_date = None\n",
    "    for row in sdf.iterrows():\n",
    "        i, r = row\n",
    "    #     prereqs = get_prerequisite_html_from(r.Prerequsites)\n",
    "        if use_br:\n",
    "            prereqs = '<br/>'.join(' - ' + k[:1].upper() + k[1:] for k in r.Prerequsites)\n",
    "        else:\n",
    "            prereqs = ' :: '.join(k[:1].upper() + k[1:] for k in r.Prerequsites)\n",
    "        md_table += f'| `{r.Timeline}` | {r.Time} | {r.Date} | {r.Level} | [{r.Title}]({r.Link}) | {prereqs} | \\n'\n",
    "        if prev_date is not None and prev_date != r.Date:\n",
    "            md_table += '| | | | | |\\n'\n",
    "    return md_table"
   ]
  },
  {
   "cell_type": "code",
   "execution_count": 10,
   "metadata": {
    "ExecuteTime": {
     "end_time": "2018-12-28T02:55:25.843639Z",
     "start_time": "2018-12-28T02:55:25.730634Z"
    }
   },
   "outputs": [
    {
     "data": {
      "text/plain": [
       "11142"
      ]
     },
     "execution_count": 10,
     "metadata": {},
     "output_type": "execute_result"
    }
   ],
   "source": [
    "md_file_path.write_text(markdown_str + create_md_table(), encoding='utf8')\n",
    "md_file_path_w_prereqs.write_text(markdown_str + create_md_table_with_prereqs(), encoding='utf8')"
   ]
  },
  {
   "cell_type": "code",
   "execution_count": null,
   "metadata": {
    "collapsed": true
   },
   "outputs": [],
   "source": []
  }
 ],
 "metadata": {
  "kernelspec": {
   "display_name": "Python 3.6 (ml)",
   "language": "python",
   "name": "ml36"
  },
  "language_info": {
   "codemirror_mode": {
    "name": "ipython",
    "version": 3
   },
   "file_extension": ".py",
   "mimetype": "text/x-python",
   "name": "python",
   "nbconvert_exporter": "python",
   "pygments_lexer": "ipython3",
   "version": "3.6.6"
  }
 },
 "nbformat": 4,
 "nbformat_minor": 2
}
