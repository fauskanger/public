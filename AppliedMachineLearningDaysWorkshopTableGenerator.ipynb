{
 "cells": [
  {
   "cell_type": "code",
   "execution_count": 1,
   "metadata": {
    "ExecuteTime": {
     "end_time": "2018-12-05T21:17:09.890920Z",
     "start_time": "2018-12-05T21:17:06.675892Z"
    },
    "collapsed": true
   },
   "outputs": [],
   "source": [
    "import requests\n",
    "import pandas as pd\n",
    "from bs4 import BeautifulSoup\n",
    "from pathlib import Path"
   ]
  },
  {
   "cell_type": "code",
   "execution_count": 2,
   "metadata": {
    "ExecuteTime": {
     "end_time": "2018-12-05T21:17:09.907898Z",
     "start_time": "2018-12-05T21:17:09.898940Z"
    },
    "collapsed": true
   },
   "outputs": [],
   "source": [
    "# Disable cell text truncation\n",
    "pd.set_option('display.max_colwidth', -1)"
   ]
  },
  {
   "cell_type": "code",
   "execution_count": 3,
   "metadata": {
    "ExecuteTime": {
     "end_time": "2018-12-05T21:17:10.747709Z",
     "start_time": "2018-12-05T21:17:09.920895Z"
    },
    "collapsed": true
   },
   "outputs": [],
   "source": [
    "# Markdown output file\n",
    "md_file_path = Path('output') / 'amld_workshop_schedule.md'\n",
    "md_file_path_w_prereqs = Path('output') / 'amld_workshop_schedule_w_prereqs.md'\n",
    "\n",
    "base_url = 'https://www.appliedmldays.org'\n",
    "front_url = f'{base_url}/workshops.html'\n",
    "\n",
    "r = requests.get(front_url)\n",
    "front_soup = BeautifulSoup(r.text)"
   ]
  },
  {
   "cell_type": "code",
   "execution_count": 4,
   "metadata": {
    "ExecuteTime": {
     "end_time": "2018-12-05T21:17:10.785688Z",
     "start_time": "2018-12-05T21:17:10.754709Z"
    }
   },
   "outputs": [],
   "source": [
    "def get_time_from_soup(soup):\n",
    "    h1 = soup.select_one('.masthead-text').find('h1')\n",
    "    h1.find('strong').clear()\n",
    "    time_str = h1.text.strip()\n",
    "    parts = time_str.split()\n",
    "    if len(parts) > 2:\n",
    "        return ''.join(parts[:-2]), ' '.join(parts[-2:])\n",
    "    return '', time_str\n",
    "\n",
    "def get_level_from_soup(soup):\n",
    "    badge = soup.select_one('.badge-grey')\n",
    "    return badge.text.split()[0] if badge is not None else ''\n",
    "\n",
    "def get_prerequisites_from_soup(soup):\n",
    "    try:\n",
    "        return [li.text.strip() for li in soup.find('h3', text='Prerequisites').findNext('ul').findAll('li')]\n",
    "    except AttributeError:\n",
    "        # One or more of the elements are None\n",
    "        return []\n",
    "    \n",
    "def get_prerequisite_html_from(prerequisites):\n",
    "    if not prerequisites:\n",
    "        return ''\n",
    "    lis = '</li><li>'.join(f' - {p}' for p in prerequisites)\n",
    "    return f'<ul><li>{ lis }</li></ul>'\n",
    "\n",
    "def generate_rows():\n",
    "    for workshop_title in front_soup.find_all(class_='track-name'):\n",
    "        title = workshop_title.text\n",
    "        a = workshop_title.parent\n",
    "        url = a.attrs.get('href')\n",
    "        url = f'{base_url}{url}'\n",
    "        ws_soup = BeautifulSoup(requests.get(url).text)\n",
    "        time, date = get_time_from_soup(ws_soup)\n",
    "        level = get_level_from_soup(ws_soup)\n",
    "        prerequisites = get_prerequisites_from_soup(ws_soup)\n",
    "        yield time, date, title, level, prerequisites, url"
   ]
  },
  {
   "cell_type": "code",
   "execution_count": 5,
   "metadata": {
    "ExecuteTime": {
     "end_time": "2018-12-05T21:17:22.507143Z",
     "start_time": "2018-12-05T21:17:10.804691Z"
    }
   },
   "outputs": [],
   "source": [
    "df = pd.DataFrame(generate_rows(), columns=['Time', 'Date', 'Title', 'Level', 'Prerequsites', 'Link'])"
   ]
  },
  {
   "cell_type": "code",
   "execution_count": 6,
   "metadata": {
    "ExecuteTime": {
     "end_time": "2018-12-05T21:17:22.647145Z",
     "start_time": "2018-12-05T21:17:22.516150Z"
    }
   },
   "outputs": [
    {
     "data": {
      "text/html": [
       "<div>\n",
       "<style scoped>\n",
       "    .dataframe tbody tr th:only-of-type {\n",
       "        vertical-align: middle;\n",
       "    }\n",
       "\n",
       "    .dataframe tbody tr th {\n",
       "        vertical-align: top;\n",
       "    }\n",
       "\n",
       "    .dataframe thead th {\n",
       "        text-align: right;\n",
       "    }\n",
       "</style>\n",
       "<table border=\"1\" class=\"dataframe\">\n",
       "  <thead>\n",
       "    <tr style=\"text-align: right;\">\n",
       "      <th></th>\n",
       "      <th>Time</th>\n",
       "      <th>Date</th>\n",
       "      <th>Title</th>\n",
       "      <th>Level</th>\n",
       "      <th>Prerequsites</th>\n",
       "      <th>Link</th>\n",
       "    </tr>\n",
       "  </thead>\n",
       "  <tbody>\n",
       "    <tr>\n",
       "      <th>1</th>\n",
       "      <td>09:00-12:00</td>\n",
       "      <td>January 26</td>\n",
       "      <td>ML in your organization: a practical toolbox to identify and seize highest value opportunities in Machine Learning</td>\n",
       "      <td>Beginner</td>\n",
       "      <td>[]</td>\n",
       "      <td>https://www.appliedmldays.org/workshops/ml-in-your-organization-a-practical-toolbox-to-identify-and-seize-highest-value-opportunities-in-machine-learning</td>\n",
       "    </tr>\n",
       "    <tr>\n",
       "      <th>3</th>\n",
       "      <td>09:00-12:00</td>\n",
       "      <td>January 26</td>\n",
       "      <td>Tutorial: Build your first predictive model to forecast and detect anomalies</td>\n",
       "      <td>Beginner</td>\n",
       "      <td>[]</td>\n",
       "      <td>https://www.appliedmldays.org/workshops/tutorial-build-your-first-predictive-model-to-forecast-and-detect-anomalies</td>\n",
       "    </tr>\n",
       "    <tr>\n",
       "      <th>0</th>\n",
       "      <td>09:00-12:00</td>\n",
       "      <td>January 26</td>\n",
       "      <td>Hands-on deep learning with TensorFlow.js</td>\n",
       "      <td>Intermediate</td>\n",
       "      <td>[experience with machine learning in Python or JS, or in building web applications with JavaScript]</td>\n",
       "      <td>https://www.appliedmldays.org/workshops/hands-on-deep-learning-with-tensorflow-js</td>\n",
       "    </tr>\n",
       "    <tr>\n",
       "      <th>2</th>\n",
       "      <td>09:00-12:00</td>\n",
       "      <td>January 26</td>\n",
       "      <td>PySpark: Big Data Processing and Machine Learning with Python</td>\n",
       "      <td>Intermediate</td>\n",
       "      <td>[be familiar with Pandas and Scikit-learn libraries of Python, laptop with Jupyter notebook or Jupyterlab already installed, it is highly recommended that participants install Pyspark in advance (recommended way of installation is via Anaconda).]</td>\n",
       "      <td>https://www.appliedmldays.org/workshops/pyspark-big-data-processing-and-machine-learning-with-python</td>\n",
       "    </tr>\n",
       "    <tr>\n",
       "      <th>9</th>\n",
       "      <td>09:00-16:30</td>\n",
       "      <td>January 26</td>\n",
       "      <td>Data exploration and preparation for Machine Learning</td>\n",
       "      <td>Beginner</td>\n",
       "      <td>[Basic Python and statistics knowledge, Running Python installation on own laptop, and Jupyter Notebook installed]</td>\n",
       "      <td>https://www.appliedmldays.org/workshops/data-exploration-and-preparation-for-machine-learning</td>\n",
       "    </tr>\n",
       "  </tbody>\n",
       "</table>\n",
       "</div>"
      ],
      "text/plain": [
       "          Time        Date  \\\n",
       "1  09:00-12:00  January 26   \n",
       "3  09:00-12:00  January 26   \n",
       "0  09:00-12:00  January 26   \n",
       "2  09:00-12:00  January 26   \n",
       "9  09:00-16:30  January 26   \n",
       "\n",
       "                                                                                                                Title  \\\n",
       "1  ML in your organization: a practical toolbox to identify and seize highest value opportunities in Machine Learning   \n",
       "3  Tutorial: Build your first predictive model to forecast and detect anomalies                                         \n",
       "0  Hands-on deep learning with TensorFlow.js                                                                            \n",
       "2  PySpark: Big Data Processing and Machine Learning with Python                                                        \n",
       "9  Data exploration and preparation for Machine Learning                                                                \n",
       "\n",
       "          Level  \\\n",
       "1  Beginner       \n",
       "3  Beginner       \n",
       "0  Intermediate   \n",
       "2  Intermediate   \n",
       "9  Beginner       \n",
       "\n",
       "                                                                                                                                                                                                                                             Prerequsites  \\\n",
       "1  []                                                                                                                                                                                                                                                       \n",
       "3  []                                                                                                                                                                                                                                                       \n",
       "0  [experience with machine learning in Python or JS, or in building web applications with JavaScript]                                                                                                                                                      \n",
       "2  [be familiar with Pandas and Scikit-learn libraries of Python, laptop with Jupyter notebook or Jupyterlab already installed, it is highly recommended that participants install Pyspark in advance (recommended way of installation is via Anaconda).]   \n",
       "9  [Basic Python and statistics knowledge, Running Python installation on own laptop, and Jupyter Notebook installed]                                                                                                                                       \n",
       "\n",
       "                                                                                                                                                        Link  \n",
       "1  https://www.appliedmldays.org/workshops/ml-in-your-organization-a-practical-toolbox-to-identify-and-seize-highest-value-opportunities-in-machine-learning  \n",
       "3  https://www.appliedmldays.org/workshops/tutorial-build-your-first-predictive-model-to-forecast-and-detect-anomalies                                        \n",
       "0  https://www.appliedmldays.org/workshops/hands-on-deep-learning-with-tensorflow-js                                                                          \n",
       "2  https://www.appliedmldays.org/workshops/pyspark-big-data-processing-and-machine-learning-with-python                                                       \n",
       "9  https://www.appliedmldays.org/workshops/data-exploration-and-preparation-for-machine-learning                                                              "
      ]
     },
     "execution_count": 6,
     "metadata": {},
     "output_type": "execute_result"
    }
   ],
   "source": [
    "sdf = df.sort_values(by=['Date', 'Time', 'Level'])\n",
    "sdf.head()"
   ]
  },
  {
   "cell_type": "code",
   "execution_count": 7,
   "metadata": {
    "ExecuteTime": {
     "end_time": "2018-12-05T21:17:22.667147Z",
     "start_time": "2018-12-05T21:17:22.656144Z"
    },
    "collapsed": true
   },
   "outputs": [],
   "source": [
    "markdown_str = \"\"\"\n",
    "## Applied Machine Learning Days\n",
    "Table of workshops generated from [the overview page][ws].\n",
    "\n",
    "\\[ For the curious on [how it was created][jnb] \\]\n",
    "\n",
    "[ws]: https://www.appliedmldays.org/workshops.html\n",
    "[jnb]: https://nbviewer.jupyter.org/github/fauskanger/public/blob/master/AppliedMachineLearningDaysWorkshopTableGenerator.ipynb\n",
    "\n",
    "\"\"\""
   ]
  },
  {
   "cell_type": "code",
   "execution_count": 8,
   "metadata": {
    "ExecuteTime": {
     "end_time": "2018-12-05T21:17:23.383397Z",
     "start_time": "2018-12-05T21:17:22.675167Z"
    }
   },
   "outputs": [],
   "source": [
    "def create_md_table():\n",
    "    md_table = '| Time | Date | Level | Title \\n'\n",
    "    md_table += '|---|---|---|---|\\n'\n",
    "    for row in sdf.iterrows():\n",
    "        i, r = row\n",
    "        md_table += f'| {r.Time} | {r.Date} | {r.Level} | [{r.Title}]({r.Link})| \\n'\n",
    "    return md_table\n",
    "\n",
    "def create_md_table_with_prereqs(use_br=True):\n",
    "    md_table = '| Time | Date | Level | Title | Prerequisites \\n'\n",
    "    md_table += '|---|---|---|---|---|\\n'\n",
    "    for row in sdf.iterrows():\n",
    "        i, r = row\n",
    "    #     prereqs = get_prerequisite_html_from(r.Prerequsites)\n",
    "        if use_br:\n",
    "            prereqs = '<br/>'.join(' - ' + k[:1].upper() + k[1:] for k in r.Prerequsites)\n",
    "        else:\n",
    "            prereqs = ' :: '.join(k[:1].upper() + k[1:] for k in r.Prerequsites)\n",
    "        md_table += f'| {r.Time} | {r.Date} | {r.Level} | [{r.Title}]({r.Link}) | {prereqs} | \\n'\n",
    "    return md_table"
   ]
  },
  {
   "cell_type": "code",
   "execution_count": null,
   "metadata": {
    "ExecuteTime": {
     "start_time": "2018-12-05T21:17:06.752Z"
    }
   },
   "outputs": [],
   "source": [
    "md_file_path.write_text(create_md_table(), encoding='utf8')\n",
    "md_file_path_w_prereqs.write_text(create_md_table_with_prereqs(), encoding='utf8')"
   ]
  },
  {
   "cell_type": "code",
   "execution_count": null,
   "metadata": {
    "collapsed": true
   },
   "outputs": [],
   "source": []
  },
  {
   "cell_type": "code",
   "execution_count": null,
   "metadata": {
    "collapsed": true
   },
   "outputs": [],
   "source": []
  },
  {
   "cell_type": "code",
   "execution_count": null,
   "metadata": {
    "collapsed": true
   },
   "outputs": [],
   "source": []
  }
 ],
 "metadata": {
  "kernelspec": {
   "display_name": "Python 3.6 (ml)",
   "language": "python",
   "name": "ml36"
  },
  "language_info": {
   "codemirror_mode": {
    "name": "ipython",
    "version": 3
   },
   "file_extension": ".py",
   "mimetype": "text/x-python",
   "name": "python",
   "nbconvert_exporter": "python",
   "pygments_lexer": "ipython3",
   "version": "3.6.6"
  }
 },
 "nbformat": 4,
 "nbformat_minor": 2
}
