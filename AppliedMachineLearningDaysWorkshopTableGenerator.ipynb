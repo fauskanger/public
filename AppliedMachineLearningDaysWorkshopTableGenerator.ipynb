{
 "cells": [
  {
   "cell_type": "code",
   "execution_count": 1,
   "metadata": {
    "ExecuteTime": {
     "end_time": "2018-12-27T16:28:49.790648Z",
     "start_time": "2018-12-27T16:28:35.580950Z"
    },
    "collapsed": true
   },
   "outputs": [],
   "source": [
    "import requests\n",
    "import pandas as pd\n",
    "from bs4 import BeautifulSoup\n",
    "from pathlib import Path"
   ]
  },
  {
   "cell_type": "code",
   "execution_count": 2,
   "metadata": {
    "ExecuteTime": {
     "end_time": "2018-12-27T16:28:49.807641Z",
     "start_time": "2018-12-27T16:28:49.798643Z"
    },
    "collapsed": true
   },
   "outputs": [],
   "source": [
    "# Disable cell text truncation\n",
    "pd.set_option('display.max_colwidth', -1)"
   ]
  },
  {
   "cell_type": "code",
   "execution_count": 3,
   "metadata": {
    "ExecuteTime": {
     "end_time": "2018-12-27T16:28:50.762333Z",
     "start_time": "2018-12-27T16:28:49.816687Z"
    },
    "collapsed": true
   },
   "outputs": [],
   "source": [
    "# Markdown output file\n",
    "md_file_path = Path('output') / 'amld_workshop_schedule.md'\n",
    "md_file_path_w_prereqs = Path('output') / 'amld_workshop_schedule_w_prereqs.md'\n",
    "\n",
    "base_url = 'https://www.appliedmldays.org'\n",
    "front_url = f'{base_url}/workshops.html'\n",
    "\n",
    "r = requests.get(front_url)\n",
    "front_soup = BeautifulSoup(r.text)"
   ]
  },
  {
   "cell_type": "code",
   "execution_count": 39,
   "metadata": {
    "ExecuteTime": {
     "end_time": "2018-12-28T02:42:17.294548Z",
     "start_time": "2018-12-28T02:42:17.265545Z"
    },
    "collapsed": true
   },
   "outputs": [],
   "source": [
    "def get_time_from_soup(soup):\n",
    "    h1 = soup.select_one('.masthead-text').find('h1')\n",
    "    h1.find('strong').clear()\n",
    "    time_str = h1.text.strip()\n",
    "    parts = time_str.split()\n",
    "    if len(parts) > 2:\n",
    "        return ''.join(parts[:-2]), ' '.join(parts[-2:])\n",
    "    return '', time_str\n",
    "\n",
    "free = '-' * 3\n",
    "busy = '█' * 3\n",
    "\n",
    "def get_timeline_blocks(time):\n",
    "    start, end = (int(v.split(':',1)[0]) for v in time.split('-'))\n",
    "    tl = ''\n",
    "    tl += free if start > 10 else busy\n",
    "    tl += free if end < 13 else busy\n",
    "    return tl\n",
    "\n",
    "def get_level_from_soup(soup):\n",
    "    badge = soup.select_one('.badge-grey')\n",
    "    return badge.text.split()[0] if badge is not None else ''\n",
    "\n",
    "def get_prerequisites_from_soup(soup):\n",
    "    try:\n",
    "        return [li.text.strip() for li in soup.find('h3', text='Prerequisites').findNext('ul').findAll('li')]\n",
    "    except AttributeError:\n",
    "        # One or more of the elements are None\n",
    "        return []\n",
    "    \n",
    "def get_prerequisite_html_from(prerequisites):\n",
    "    if not prerequisites:\n",
    "        return ''\n",
    "    lis = '</li><li>'.join(f' - {p}' for p in prerequisites)\n",
    "    return f'<ul><li>{ lis }</li></ul>'\n",
    "\n",
    "def generate_rows():\n",
    "    for workshop_title in front_soup.find_all(class_='track-name'):\n",
    "        title = workshop_title.text\n",
    "        a = workshop_title.parent\n",
    "        url = a.attrs.get('href')\n",
    "        url = f'{base_url}{url}'\n",
    "        ws_soup = BeautifulSoup(requests.get(url).text)\n",
    "        time, date = get_time_from_soup(ws_soup)\n",
    "        level = get_level_from_soup(ws_soup)\n",
    "        prerequisites = get_prerequisites_from_soup(ws_soup)\n",
    "        timeline = get_timeline_blocks(time)\n",
    "        is_full_day = timeline[0] == timeline[-1]\n",
    "        yield timeline, time, date, title, level, prerequisites, url, is_full_day"
   ]
  },
  {
   "cell_type": "code",
   "execution_count": 40,
   "metadata": {
    "ExecuteTime": {
     "end_time": "2018-12-28T02:42:18.426710Z",
     "start_time": "2018-12-28T02:42:18.420706Z"
    }
   },
   "outputs": [],
   "source": [
    "# bss = '▀ ▁ ▂ ▃ ▄ ▅ ▆ ▇ █ ▉ ▊ ▋ ▌ ▍ ▎ ▏'.split()\n",
    "# bn = '█ ▀ ▄'\n",
    "\n",
    "# for bi, b in enumerate(bss):\n",
    "#     print(bn)\n",
    "#     print(b * 5, bi, b)\n",
    "#     print('')\n"
   ]
  },
  {
   "cell_type": "code",
   "execution_count": 41,
   "metadata": {
    "ExecuteTime": {
     "end_time": "2018-12-28T02:42:41.855296Z",
     "start_time": "2018-12-28T02:42:28.617361Z"
    }
   },
   "outputs": [],
   "source": [
    "df = pd.DataFrame(generate_rows(), columns=['Timeline', 'Time', 'Date', 'Title', 'Level', 'Prerequsites', 'Link', 'FullDay'])"
   ]
  },
  {
   "cell_type": "code",
   "execution_count": 43,
   "metadata": {
    "ExecuteTime": {
     "end_time": "2018-12-28T02:43:41.901834Z",
     "start_time": "2018-12-28T02:43:41.808834Z"
    }
   },
   "outputs": [
    {
     "data": {
      "text/html": [
       "<div>\n",
       "<style scoped>\n",
       "    .dataframe tbody tr th:only-of-type {\n",
       "        vertical-align: middle;\n",
       "    }\n",
       "\n",
       "    .dataframe tbody tr th {\n",
       "        vertical-align: top;\n",
       "    }\n",
       "\n",
       "    .dataframe thead th {\n",
       "        text-align: right;\n",
       "    }\n",
       "</style>\n",
       "<table border=\"1\" class=\"dataframe\">\n",
       "  <thead>\n",
       "    <tr style=\"text-align: right;\">\n",
       "      <th></th>\n",
       "      <th>Timeline</th>\n",
       "      <th>Time</th>\n",
       "      <th>Date</th>\n",
       "      <th>Title</th>\n",
       "      <th>Level</th>\n",
       "      <th>Prerequsites</th>\n",
       "      <th>Link</th>\n",
       "      <th>FullDay</th>\n",
       "    </tr>\n",
       "  </thead>\n",
       "  <tbody>\n",
       "    <tr>\n",
       "      <th>8</th>\n",
       "      <td>███---</td>\n",
       "      <td>09:00-12:00</td>\n",
       "      <td>January 26</td>\n",
       "      <td>ML in your organization: a practical toolbox to identify and seize highest value opportunities in Machine Learning</td>\n",
       "      <td>Beginner</td>\n",
       "      <td>[]</td>\n",
       "      <td>https://www.appliedmldays.org/workshops/ml-in-your-organization-a-practical-toolbox-to-identify-and-seize-highest-value-opportunities-in-machine-learning</td>\n",
       "      <td>False</td>\n",
       "    </tr>\n",
       "    <tr>\n",
       "      <th>10</th>\n",
       "      <td>███---</td>\n",
       "      <td>09:00-12:00</td>\n",
       "      <td>January 26</td>\n",
       "      <td>Tutorial: Build your first predictive model to forecast and detect anomalies</td>\n",
       "      <td>Beginner</td>\n",
       "      <td>[]</td>\n",
       "      <td>https://www.appliedmldays.org/workshops/tutorial-build-your-first-predictive-model-to-forecast-and-detect-anomalies</td>\n",
       "      <td>False</td>\n",
       "    </tr>\n",
       "    <tr>\n",
       "      <th>6</th>\n",
       "      <td>███---</td>\n",
       "      <td>09:00-12:00</td>\n",
       "      <td>January 26</td>\n",
       "      <td>Hands-on deep learning with TensorFlow.js</td>\n",
       "      <td>Intermediate</td>\n",
       "      <td>[experience with machine learning in Python or JS, or in building web applications with JavaScript]</td>\n",
       "      <td>https://www.appliedmldays.org/workshops/hands-on-deep-learning-with-tensorflow-js</td>\n",
       "      <td>False</td>\n",
       "    </tr>\n",
       "    <tr>\n",
       "      <th>7</th>\n",
       "      <td>███---</td>\n",
       "      <td>09:00-12:00</td>\n",
       "      <td>January 26</td>\n",
       "      <td>Data Augmentation and Segmentation with Generative Networks for Medical Imaging</td>\n",
       "      <td>Intermediate</td>\n",
       "      <td>[You must bring your own laptop in order to run the training., A current browser is needed. For optimal performance, Chrome, Firefox or Safari for Macs are recommended. IE is operational but does not provide the best performance., Create an account at https://courses.nvidia.com/join, Ensure your laptop will run smoothly by going to http://websocketstest.com/, Make sure that WebSockets work for you by seeing under Environment, WebSockets is supported and Data Receive, Send and Echo Test all check Yes under WebSockets (Port 80)., If there are issues with WebSockets, try updating your browser.]</td>\n",
       "      <td>https://www.appliedmldays.org/workshops/data-augmentation-and-segmentation-with-generative-networks-for-medical-imaging</td>\n",
       "      <td>False</td>\n",
       "    </tr>\n",
       "    <tr>\n",
       "      <th>9</th>\n",
       "      <td>███---</td>\n",
       "      <td>09:00-12:00</td>\n",
       "      <td>January 26</td>\n",
       "      <td>PySpark: Big Data Processing and Machine Learning with Python</td>\n",
       "      <td>Intermediate</td>\n",
       "      <td>[be familiar with Pandas and Scikit-learn libraries of Python, laptop with Jupyter notebook or Jupyterlab already installed, it is highly recommended that participants install Pyspark in advance (recommended way of installation is via Anaconda).]</td>\n",
       "      <td>https://www.appliedmldays.org/workshops/pyspark-big-data-processing-and-machine-learning-with-python</td>\n",
       "      <td>False</td>\n",
       "    </tr>\n",
       "  </tbody>\n",
       "</table>\n",
       "</div>"
      ],
      "text/plain": [
       "   Timeline         Time        Date  \\\n",
       "8   ███---   09:00-12:00  January 26   \n",
       "10  ███---   09:00-12:00  January 26   \n",
       "6   ███---   09:00-12:00  January 26   \n",
       "7   ███---   09:00-12:00  January 26   \n",
       "9   ███---   09:00-12:00  January 26   \n",
       "\n",
       "                                                                                                                 Title  \\\n",
       "8   ML in your organization: a practical toolbox to identify and seize highest value opportunities in Machine Learning   \n",
       "10  Tutorial: Build your first predictive model to forecast and detect anomalies                                         \n",
       "6   Hands-on deep learning with TensorFlow.js                                                                            \n",
       "7   Data Augmentation and Segmentation with Generative Networks for Medical Imaging                                      \n",
       "9   PySpark: Big Data Processing and Machine Learning with Python                                                        \n",
       "\n",
       "           Level  \\\n",
       "8   Beginner       \n",
       "10  Beginner       \n",
       "6   Intermediate   \n",
       "7   Intermediate   \n",
       "9   Intermediate   \n",
       "\n",
       "                                                                                                                                                                                                                                                                                                                                                                                                                                                                                                                                                                                                              Prerequsites  \\\n",
       "8   []                                                                                                                                                                                                                                                                                                                                                                                                                                                                                                                                                                                                                       \n",
       "10  []                                                                                                                                                                                                                                                                                                                                                                                                                                                                                                                                                                                                                       \n",
       "6   [experience with machine learning in Python or JS, or in building web applications with JavaScript]                                                                                                                                                                                                                                                                                                                                                                                                                                                                                                                      \n",
       "7   [You must bring your own laptop in order to run the training., A current browser is needed. For optimal performance, Chrome, Firefox or Safari for Macs are recommended. IE is operational but does not provide the best performance., Create an account at https://courses.nvidia.com/join, Ensure your laptop will run smoothly by going to http://websocketstest.com/, Make sure that WebSockets work for you by seeing under Environment, WebSockets is supported and Data Receive, Send and Echo Test all check Yes under WebSockets (Port 80)., If there are issues with WebSockets, try updating your browser.]   \n",
       "9   [be familiar with Pandas and Scikit-learn libraries of Python, laptop with Jupyter notebook or Jupyterlab already installed, it is highly recommended that participants install Pyspark in advance (recommended way of installation is via Anaconda).]                                                                                                                                                                                                                                                                                                                                                                   \n",
       "\n",
       "                                                                                                                                                         Link  \\\n",
       "8   https://www.appliedmldays.org/workshops/ml-in-your-organization-a-practical-toolbox-to-identify-and-seize-highest-value-opportunities-in-machine-learning   \n",
       "10  https://www.appliedmldays.org/workshops/tutorial-build-your-first-predictive-model-to-forecast-and-detect-anomalies                                         \n",
       "6   https://www.appliedmldays.org/workshops/hands-on-deep-learning-with-tensorflow-js                                                                           \n",
       "7   https://www.appliedmldays.org/workshops/data-augmentation-and-segmentation-with-generative-networks-for-medical-imaging                                     \n",
       "9   https://www.appliedmldays.org/workshops/pyspark-big-data-processing-and-machine-learning-with-python                                                        \n",
       "\n",
       "    FullDay  \n",
       "8   False    \n",
       "10  False    \n",
       "6   False    \n",
       "7   False    \n",
       "9   False    "
      ]
     },
     "execution_count": 43,
     "metadata": {},
     "output_type": "execute_result"
    }
   ],
   "source": [
    "sdf = df.sort_values(by=['Date', 'FullDay', 'Time', 'Level'])\n",
    "sdf.head()"
   ]
  },
  {
   "cell_type": "code",
   "execution_count": 44,
   "metadata": {
    "ExecuteTime": {
     "end_time": "2018-12-28T02:43:42.042793Z",
     "start_time": "2018-12-28T02:43:42.028836Z"
    },
    "collapsed": true
   },
   "outputs": [],
   "source": [
    "markdown_str = f\"\"\"\n",
    "## Applied Machine Learning Days\n",
    "Table of workshops generated from [the overview page][ws]. \n",
    "\n",
    "Versions: [normal][n] | [with prerequisites][wp] \n",
    "\n",
    "\n",
    "\n",
    "\\[ For the curious on [how it was created][jnb] \\]\n",
    "\n",
    "[n]: ./{md_file_path.name}\n",
    "[wp]: ./{md_file_path_w_prereqs.name}\n",
    "[ws]: https://www.appliedmldays.org/workshops.html\n",
    "[jnb]: https://nbviewer.jupyter.org/github/fauskanger/public/blob/master/AppliedMachineLearningDaysWorkshopTableGenerator.ipynb\n",
    "\n",
    "\"\"\""
   ]
  },
  {
   "cell_type": "code",
   "execution_count": 45,
   "metadata": {
    "ExecuteTime": {
     "end_time": "2018-12-28T02:43:42.177799Z",
     "start_time": "2018-12-28T02:43:42.158815Z"
    },
    "collapsed": true
   },
   "outputs": [],
   "source": [
    "def create_md_table():\n",
    "    md_table = '| Timeline | Time | Date | Level | Title \\n'\n",
    "    md_table += '|---|---|---|---|---|\\n'\n",
    "    for row in sdf.iterrows():\n",
    "        i, r = row\n",
    "        md_table += f'| `{r.Timeline}` | {r.Time} | {r.Date} | {r.Level} | [{r.Title}]({r.Link})| \\n'\n",
    "    return md_table\n",
    "\n",
    "def create_md_table_with_prereqs(use_br=True):\n",
    "    md_table = '| Timeline | Time | Date | Level | Title | Prerequisites \\n'\n",
    "    md_table += '|---|---|---|---|---|---|\\n'\n",
    "    for row in sdf.iterrows():\n",
    "        i, r = row\n",
    "    #     prereqs = get_prerequisite_html_from(r.Prerequsites)\n",
    "        if use_br:\n",
    "            prereqs = '<br/>'.join(' - ' + k[:1].upper() + k[1:] for k in r.Prerequsites)\n",
    "        else:\n",
    "            prereqs = ' :: '.join(k[:1].upper() + k[1:] for k in r.Prerequsites)\n",
    "        md_table += f'| `{r.Timeline}` | {r.Time} | {r.Date} | {r.Level} | [{r.Title}]({r.Link}) | {prereqs} | \\n'\n",
    "    return md_table"
   ]
  },
  {
   "cell_type": "code",
   "execution_count": 46,
   "metadata": {
    "ExecuteTime": {
     "end_time": "2018-12-28T02:43:42.895247Z",
     "start_time": "2018-12-28T02:43:42.784266Z"
    }
   },
   "outputs": [
    {
     "data": {
      "text/plain": [
       "11137"
      ]
     },
     "execution_count": 46,
     "metadata": {},
     "output_type": "execute_result"
    }
   ],
   "source": [
    "md_file_path.write_text(markdown_str + create_md_table(), encoding='utf8')\n",
    "md_file_path_w_prereqs.write_text(markdown_str + create_md_table_with_prereqs(), encoding='utf8')"
   ]
  },
  {
   "cell_type": "code",
   "execution_count": null,
   "metadata": {
    "collapsed": true
   },
   "outputs": [],
   "source": []
  }
 ],
 "metadata": {
  "kernelspec": {
   "display_name": "Python 3.6 (ml)",
   "language": "python",
   "name": "ml36"
  },
  "language_info": {
   "codemirror_mode": {
    "name": "ipython",
    "version": 3
   },
   "file_extension": ".py",
   "mimetype": "text/x-python",
   "name": "python",
   "nbconvert_exporter": "python",
   "pygments_lexer": "ipython3",
   "version": "3.6.6"
  }
 },
 "nbformat": 4,
 "nbformat_minor": 2
}
