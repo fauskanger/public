{
 "cells": [
  {
   "cell_type": "code",
   "execution_count": 4,
   "metadata": {
    "ExecuteTime": {
     "end_time": "2018-11-20T13:43:45.190179Z",
     "start_time": "2018-11-20T13:43:42.049215Z"
    },
    "collapsed": true
   },
   "outputs": [],
   "source": [
    "import requests\n",
    "from bs4 import BeautifulSoup\n",
    "import pandas as pd"
   ]
  },
  {
   "cell_type": "code",
   "execution_count": 5,
   "metadata": {
    "ExecuteTime": {
     "end_time": "2018-11-20T13:43:45.206174Z",
     "start_time": "2018-11-20T13:43:45.198195Z"
    },
    "collapsed": true
   },
   "outputs": [],
   "source": [
    "# Disable cell text truncation\n",
    "pd.set_option('display.max_colwidth', -1)"
   ]
  },
  {
   "cell_type": "code",
   "execution_count": 6,
   "metadata": {
    "ExecuteTime": {
     "end_time": "2018-11-20T13:43:46.760188Z",
     "start_time": "2018-11-20T13:43:45.215169Z"
    },
    "collapsed": true
   },
   "outputs": [],
   "source": [
    "base_url = 'https://www.appliedmldays.org'\n",
    "front_url = f'{base_url}/workshops.html'\n",
    "\n",
    "r = requests.get(front_url)\n",
    "front_soup = BeautifulSoup(r.text)"
   ]
  },
  {
   "cell_type": "code",
   "execution_count": 7,
   "metadata": {
    "ExecuteTime": {
     "end_time": "2018-11-20T13:43:46.781182Z",
     "start_time": "2018-11-20T13:43:46.769178Z"
    },
    "collapsed": true
   },
   "outputs": [],
   "source": [
    "def get_time_from_soup(soup):\n",
    "    h1 = soup.select_one('.masthead-text').find('h1')\n",
    "    h1.find('strong').clear()\n",
    "    time_str = h1.text.strip()\n",
    "    parts = time_str.split()\n",
    "    if len(parts) > 2:\n",
    "        return ''.join(parts[:-2]), ' '.join(parts[-2:])\n",
    "    return '', time_str"
   ]
  },
  {
   "cell_type": "code",
   "execution_count": 21,
   "metadata": {
    "ExecuteTime": {
     "end_time": "2018-11-20T13:48:12.874093Z",
     "start_time": "2018-11-20T13:48:12.859095Z"
    },
    "collapsed": true
   },
   "outputs": [],
   "source": [
    "def generate_rows():\n",
    "    for workshop_title in front_soup.find_all(class_='track-name'):\n",
    "        title = workshop_title.text\n",
    "        a = workshop_title.parent\n",
    "        url = a.attrs.get('href')\n",
    "        url = f'{base_url}{url}'\n",
    "        ws_soup = BeautifulSoup(requests.get(url).text)\n",
    "        time, date = get_time_from_soup(ws_soup)\n",
    "        yield time, date, title, url"
   ]
  },
  {
   "cell_type": "code",
   "execution_count": 22,
   "metadata": {
    "ExecuteTime": {
     "end_time": "2018-11-20T13:48:30.544396Z",
     "start_time": "2018-11-20T13:48:17.227541Z"
    }
   },
   "outputs": [],
   "source": [
    "df = pd.DataFrame(generate_rows(), columns=['Tid', 'Dato', 'Tittel', 'Link'])"
   ]
  },
  {
   "cell_type": "code",
   "execution_count": 23,
   "metadata": {
    "ExecuteTime": {
     "end_time": "2018-11-20T13:48:30.649393Z",
     "start_time": "2018-11-20T13:48:30.557392Z"
    }
   },
   "outputs": [
    {
     "data": {
      "text/html": [
       "<div>\n",
       "<style scoped>\n",
       "    .dataframe tbody tr th:only-of-type {\n",
       "        vertical-align: middle;\n",
       "    }\n",
       "\n",
       "    .dataframe tbody tr th {\n",
       "        vertical-align: top;\n",
       "    }\n",
       "\n",
       "    .dataframe thead th {\n",
       "        text-align: right;\n",
       "    }\n",
       "</style>\n",
       "<table border=\"1\" class=\"dataframe\">\n",
       "  <thead>\n",
       "    <tr style=\"text-align: right;\">\n",
       "      <th></th>\n",
       "      <th>Tid</th>\n",
       "      <th>Dato</th>\n",
       "      <th>Tittel</th>\n",
       "      <th>Link</th>\n",
       "    </tr>\n",
       "  </thead>\n",
       "  <tbody>\n",
       "    <tr>\n",
       "      <th>0</th>\n",
       "      <td></td>\n",
       "      <td>January 26</td>\n",
       "      <td>Hands-on deep learning with TensorFlow.js</td>\n",
       "      <td>https://www.appliedmldays.org/workshops/hands-on-deep-learning-with-tensorflow-js</td>\n",
       "    </tr>\n",
       "    <tr>\n",
       "      <th>2</th>\n",
       "      <td></td>\n",
       "      <td>January 26</td>\n",
       "      <td>ML in your organization: a practical toolbox to identify and seize highest value opportunities in Machine Learning</td>\n",
       "      <td>https://www.appliedmldays.org/workshops/ml-in-your-organization-a-practical-toolbox-to-identify-and-seize-highest-value-opportunities-in-machine-learning</td>\n",
       "    </tr>\n",
       "    <tr>\n",
       "      <th>4</th>\n",
       "      <td></td>\n",
       "      <td>January 26</td>\n",
       "      <td>Tutorial: Build your first predictive model to forecast and detect anomalies</td>\n",
       "      <td>https://www.appliedmldays.org/workshops/tutorial-build-your-first-predictive-model-to-forecast-and-detect-anomalies</td>\n",
       "    </tr>\n",
       "    <tr>\n",
       "      <th>5</th>\n",
       "      <td></td>\n",
       "      <td>January 26</td>\n",
       "      <td>Engineering for good - detecting pneumonia in X-Ray images</td>\n",
       "      <td>https://www.appliedmldays.org/workshops/engineering-for-good-detecting-pneumonia-in-x-ray-images</td>\n",
       "    </tr>\n",
       "    <tr>\n",
       "      <th>3</th>\n",
       "      <td>09:00-12:00</td>\n",
       "      <td>January 26</td>\n",
       "      <td>PySpark: Big Data Processing and Machine Learning with Python</td>\n",
       "      <td>https://www.appliedmldays.org/workshops/pyspark-big-data-processing-and-machine-learning-with-python</td>\n",
       "    </tr>\n",
       "    <tr>\n",
       "      <th>7</th>\n",
       "      <td>09:00-16:30</td>\n",
       "      <td>January 26</td>\n",
       "      <td>TDA crash course: theory and practice for ML applications</td>\n",
       "      <td>https://www.appliedmldays.org/workshops/tda-crash-course-theory-and-practice-for-ml-applications</td>\n",
       "    </tr>\n",
       "    <tr>\n",
       "      <th>8</th>\n",
       "      <td>09:00-16:30</td>\n",
       "      <td>January 26</td>\n",
       "      <td>Data exploration and preparation for Machine Learning</td>\n",
       "      <td>https://www.appliedmldays.org/workshops/data-exploration-and-preparation-for-machine-learning</td>\n",
       "    </tr>\n",
       "    <tr>\n",
       "      <th>9</th>\n",
       "      <td>09:00-16:30</td>\n",
       "      <td>January 26</td>\n",
       "      <td>Learning and Processing over Networks</td>\n",
       "      <td>https://www.appliedmldays.org/workshops/learning-and-processing-over-networks</td>\n",
       "    </tr>\n",
       "    <tr>\n",
       "      <th>10</th>\n",
       "      <td>09:00-16:30</td>\n",
       "      <td>January 26</td>\n",
       "      <td>Applied Machine Learning for Anomaly Detection on Equipment</td>\n",
       "      <td>https://www.appliedmldays.org/workshops/applied-machine-learning-for-anomaly-detection-on-equipment</td>\n",
       "    </tr>\n",
       "    <tr>\n",
       "      <th>11</th>\n",
       "      <td>09:00-16:30</td>\n",
       "      <td>January 26</td>\n",
       "      <td>TensorFlow Basics - Saturday</td>\n",
       "      <td>https://www.appliedmldays.org/workshops/tensorflow-basics-saturday</td>\n",
       "    </tr>\n",
       "    <tr>\n",
       "      <th>1</th>\n",
       "      <td>13:30-16:30</td>\n",
       "      <td>January 26</td>\n",
       "      <td>Language Technology and Finance</td>\n",
       "      <td>https://www.appliedmldays.org/workshops/language-technology-and-finance</td>\n",
       "    </tr>\n",
       "    <tr>\n",
       "      <th>6</th>\n",
       "      <td>13:30-16:30</td>\n",
       "      <td>January 26</td>\n",
       "      <td>Using PySpark and interactive Jupyter notebook on Amazon Clusters</td>\n",
       "      <td>https://www.appliedmldays.org/workshops/using-pyspark-and-interactive-jupyter-notebook-on-amazon-clusters</td>\n",
       "    </tr>\n",
       "    <tr>\n",
       "      <th>12</th>\n",
       "      <td></td>\n",
       "      <td>January 27</td>\n",
       "      <td>Policy-Making and Data Economy at the city level: utopia or reality?</td>\n",
       "      <td>https://www.appliedmldays.org/workshops/policy-making-and-data-economy-at-the-city-level-utopia-or-reality</td>\n",
       "    </tr>\n",
       "    <tr>\n",
       "      <th>13</th>\n",
       "      <td></td>\n",
       "      <td>January 27</td>\n",
       "      <td>Advances in ML: Theory meets practice</td>\n",
       "      <td>https://www.appliedmldays.org/workshops/advances-in-ml-theory-meets-practice</td>\n",
       "    </tr>\n",
       "    <tr>\n",
       "      <th>14</th>\n",
       "      <td></td>\n",
       "      <td>January 27</td>\n",
       "      <td>Industrial open data</td>\n",
       "      <td>https://www.appliedmldays.org/workshops/industrial-open-data</td>\n",
       "    </tr>\n",
       "    <tr>\n",
       "      <th>15</th>\n",
       "      <td></td>\n",
       "      <td>January 27</td>\n",
       "      <td>Building Private-by-Design Voice Assistants with Snips</td>\n",
       "      <td>https://www.appliedmldays.org/workshops/building-private-by-design-voice-assistants-with-snips</td>\n",
       "    </tr>\n",
       "    <tr>\n",
       "      <th>24</th>\n",
       "      <td></td>\n",
       "      <td>January 27</td>\n",
       "      <td>Artificial Curiosity: Intrinsic Motivation in Machines too!</td>\n",
       "      <td>https://www.appliedmldays.org/workshops/artificial-curiosity-intrinsic-motivation-in-machines-too</td>\n",
       "    </tr>\n",
       "    <tr>\n",
       "      <th>16</th>\n",
       "      <td>09:00-12:00</td>\n",
       "      <td>January 27</td>\n",
       "      <td>Trust In AI - methods and use cases for debiasing and explaining of algorithms</td>\n",
       "      <td>https://www.appliedmldays.org/workshops/trust-in-ai-methods-and-use-cases-for-debiasing-and-explaining-of-algorithms</td>\n",
       "    </tr>\n",
       "    <tr>\n",
       "      <th>17</th>\n",
       "      <td>09:00-12:00</td>\n",
       "      <td>January 27</td>\n",
       "      <td>Enabling Resilience with Remote Sensing</td>\n",
       "      <td>https://www.appliedmldays.org/workshops/enabling-resilience-with-remote-sensing</td>\n",
       "    </tr>\n",
       "    <tr>\n",
       "      <th>18</th>\n",
       "      <td>09:00-16:30</td>\n",
       "      <td>January 27</td>\n",
       "      <td>Machine Learning for fake news detection: theory and practice</td>\n",
       "      <td>https://www.appliedmldays.org/workshops/machine-learning-for-fake-news-detection-theory-and-practice</td>\n",
       "    </tr>\n",
       "    <tr>\n",
       "      <th>19</th>\n",
       "      <td>09:00-16:30</td>\n",
       "      <td>January 27</td>\n",
       "      <td>TensorFlow Basics - Sunday</td>\n",
       "      <td>https://www.appliedmldays.org/workshops/tensorflow-basics-sunday</td>\n",
       "    </tr>\n",
       "    <tr>\n",
       "      <th>20</th>\n",
       "      <td>09:00-16:30</td>\n",
       "      <td>January 27</td>\n",
       "      <td>Crashcourse in R for machine learning</td>\n",
       "      <td>https://www.appliedmldays.org/workshops/crashcourse-in-r-for-machine-learning</td>\n",
       "    </tr>\n",
       "    <tr>\n",
       "      <th>21</th>\n",
       "      <td>09:00-16:30</td>\n",
       "      <td>January 27</td>\n",
       "      <td>Machine Learning Competition: Tennis Prediction</td>\n",
       "      <td>https://www.appliedmldays.org/workshops/machine-learning-competition-tennis-prediction</td>\n",
       "    </tr>\n",
       "    <tr>\n",
       "      <th>22</th>\n",
       "      <td>09:00-16:30</td>\n",
       "      <td>January 27</td>\n",
       "      <td>Machine Learning in Finance</td>\n",
       "      <td>https://www.appliedmldays.org/workshops/machine-learning-in-finance</td>\n",
       "    </tr>\n",
       "    <tr>\n",
       "      <th>23</th>\n",
       "      <td>09:00-16:30</td>\n",
       "      <td>January 27</td>\n",
       "      <td>Blue Brain Nexus, a knowledge graph for data driven projects</td>\n",
       "      <td>https://www.appliedmldays.org/workshops/blue-brain-nexus-a-knowledge-graph-for-data-driven-projects</td>\n",
       "    </tr>\n",
       "  </tbody>\n",
       "</table>\n",
       "</div>"
      ],
      "text/plain": [
       "            Tid        Dato  \\\n",
       "0                January 26   \n",
       "2                January 26   \n",
       "4                January 26   \n",
       "5                January 26   \n",
       "3   09:00-12:00  January 26   \n",
       "7   09:00-16:30  January 26   \n",
       "8   09:00-16:30  January 26   \n",
       "9   09:00-16:30  January 26   \n",
       "10  09:00-16:30  January 26   \n",
       "11  09:00-16:30  January 26   \n",
       "1   13:30-16:30  January 26   \n",
       "6   13:30-16:30  January 26   \n",
       "12               January 27   \n",
       "13               January 27   \n",
       "14               January 27   \n",
       "15               January 27   \n",
       "24               January 27   \n",
       "16  09:00-12:00  January 27   \n",
       "17  09:00-12:00  January 27   \n",
       "18  09:00-16:30  January 27   \n",
       "19  09:00-16:30  January 27   \n",
       "20  09:00-16:30  January 27   \n",
       "21  09:00-16:30  January 27   \n",
       "22  09:00-16:30  January 27   \n",
       "23  09:00-16:30  January 27   \n",
       "\n",
       "                                                                                                                Tittel  \\\n",
       "0   Hands-on deep learning with TensorFlow.js                                                                            \n",
       "2   ML in your organization: a practical toolbox to identify and seize highest value opportunities in Machine Learning   \n",
       "4   Tutorial: Build your first predictive model to forecast and detect anomalies                                         \n",
       "5   Engineering for good - detecting pneumonia in X-Ray images                                                           \n",
       "3   PySpark: Big Data Processing and Machine Learning with Python                                                        \n",
       "7   TDA crash course: theory and practice for ML applications                                                            \n",
       "8   Data exploration and preparation for Machine Learning                                                                \n",
       "9   Learning and Processing over Networks                                                                                \n",
       "10  Applied Machine Learning for Anomaly Detection on Equipment                                                          \n",
       "11  TensorFlow Basics - Saturday                                                                                         \n",
       "1   Language Technology and Finance                                                                                      \n",
       "6   Using PySpark and interactive Jupyter notebook on Amazon Clusters                                                    \n",
       "12  Policy-Making and Data Economy at the city level: utopia or reality?                                                 \n",
       "13  Advances in ML: Theory meets practice                                                                                \n",
       "14  Industrial open data                                                                                                 \n",
       "15  Building Private-by-Design Voice Assistants with Snips                                                               \n",
       "24  Artificial Curiosity: Intrinsic Motivation in Machines too!                                                          \n",
       "16  Trust In AI - methods and use cases for debiasing and explaining of algorithms                                       \n",
       "17  Enabling Resilience with Remote Sensing                                                                              \n",
       "18  Machine Learning for fake news detection: theory and practice                                                        \n",
       "19  TensorFlow Basics - Sunday                                                                                           \n",
       "20  Crashcourse in R for machine learning                                                                                \n",
       "21  Machine Learning Competition: Tennis Prediction                                                                      \n",
       "22  Machine Learning in Finance                                                                                          \n",
       "23  Blue Brain Nexus, a knowledge graph for data driven projects                                                         \n",
       "\n",
       "                                                                                                                                                         Link  \n",
       "0   https://www.appliedmldays.org/workshops/hands-on-deep-learning-with-tensorflow-js                                                                          \n",
       "2   https://www.appliedmldays.org/workshops/ml-in-your-organization-a-practical-toolbox-to-identify-and-seize-highest-value-opportunities-in-machine-learning  \n",
       "4   https://www.appliedmldays.org/workshops/tutorial-build-your-first-predictive-model-to-forecast-and-detect-anomalies                                        \n",
       "5   https://www.appliedmldays.org/workshops/engineering-for-good-detecting-pneumonia-in-x-ray-images                                                           \n",
       "3   https://www.appliedmldays.org/workshops/pyspark-big-data-processing-and-machine-learning-with-python                                                       \n",
       "7   https://www.appliedmldays.org/workshops/tda-crash-course-theory-and-practice-for-ml-applications                                                           \n",
       "8   https://www.appliedmldays.org/workshops/data-exploration-and-preparation-for-machine-learning                                                              \n",
       "9   https://www.appliedmldays.org/workshops/learning-and-processing-over-networks                                                                              \n",
       "10  https://www.appliedmldays.org/workshops/applied-machine-learning-for-anomaly-detection-on-equipment                                                        \n",
       "11  https://www.appliedmldays.org/workshops/tensorflow-basics-saturday                                                                                         \n",
       "1   https://www.appliedmldays.org/workshops/language-technology-and-finance                                                                                    \n",
       "6   https://www.appliedmldays.org/workshops/using-pyspark-and-interactive-jupyter-notebook-on-amazon-clusters                                                  \n",
       "12  https://www.appliedmldays.org/workshops/policy-making-and-data-economy-at-the-city-level-utopia-or-reality                                                 \n",
       "13  https://www.appliedmldays.org/workshops/advances-in-ml-theory-meets-practice                                                                               \n",
       "14  https://www.appliedmldays.org/workshops/industrial-open-data                                                                                               \n",
       "15  https://www.appliedmldays.org/workshops/building-private-by-design-voice-assistants-with-snips                                                             \n",
       "24  https://www.appliedmldays.org/workshops/artificial-curiosity-intrinsic-motivation-in-machines-too                                                          \n",
       "16  https://www.appliedmldays.org/workshops/trust-in-ai-methods-and-use-cases-for-debiasing-and-explaining-of-algorithms                                       \n",
       "17  https://www.appliedmldays.org/workshops/enabling-resilience-with-remote-sensing                                                                            \n",
       "18  https://www.appliedmldays.org/workshops/machine-learning-for-fake-news-detection-theory-and-practice                                                       \n",
       "19  https://www.appliedmldays.org/workshops/tensorflow-basics-sunday                                                                                           \n",
       "20  https://www.appliedmldays.org/workshops/crashcourse-in-r-for-machine-learning                                                                              \n",
       "21  https://www.appliedmldays.org/workshops/machine-learning-competition-tennis-prediction                                                                     \n",
       "22  https://www.appliedmldays.org/workshops/machine-learning-in-finance                                                                                        \n",
       "23  https://www.appliedmldays.org/workshops/blue-brain-nexus-a-knowledge-graph-for-data-driven-projects                                                        "
      ]
     },
     "execution_count": 23,
     "metadata": {},
     "output_type": "execute_result"
    }
   ],
   "source": [
    "sdf = df.sort_values(by=['Dato', 'Tid'])\n",
    "sdf"
   ]
  },
  {
   "cell_type": "code",
   "execution_count": null,
   "metadata": {
    "collapsed": true
   },
   "outputs": [],
   "source": []
  },
  {
   "cell_type": "code",
   "execution_count": 34,
   "metadata": {
    "ExecuteTime": {
     "end_time": "2018-11-20T13:56:07.693204Z",
     "start_time": "2018-11-20T13:56:07.666226Z"
    }
   },
   "outputs": [],
   "source": [
    "s = '| Tid | Dato | Tittel | Link |\\n'\n",
    "s += '|---|---|---|---|\\n'\n",
    "\n",
    "for row in sdf.iterrows():\n",
    "    i, r = row\n",
    "    s += f'| {r.Tid} | {r.Dato} | {r.Tittel} | [Link]({r.Link}) |\\n'"
   ]
  },
  {
   "cell_type": "code",
   "execution_count": 35,
   "metadata": {
    "ExecuteTime": {
     "end_time": "2018-11-20T13:56:07.864188Z",
     "start_time": "2018-11-20T13:56:07.853183Z"
    }
   },
   "outputs": [
    {
     "name": "stdout",
     "output_type": "stream",
     "text": [
      "| Tid | Dato | Tittel | Link |\n",
      "|---|---|---|---|\n",
      "|  | January 26 | Hands-on deep learning with TensorFlow.js | [Link](https://www.appliedmldays.org/workshops/hands-on-deep-learning-with-tensorflow-js) |\n",
      "|  | January 26 | ML in your organization: a practical toolbox to identify and seize highest value opportunities in Machine Learning | [Link](https://www.appliedmldays.org/workshops/ml-in-your-organization-a-practical-toolbox-to-identify-and-seize-highest-value-opportunities-in-machine-learning) |\n",
      "|  | January 26 | Tutorial: Build your first predictive model to forecast and detect anomalies | [Link](https://www.appliedmldays.org/workshops/tutorial-build-your-first-predictive-model-to-forecast-and-detect-anomalies) |\n",
      "|  | January 26 | Engineering for good - detecting pneumonia in X-Ray images | [Link](https://www.appliedmldays.org/workshops/engineering-for-good-detecting-pneumonia-in-x-ray-images) |\n",
      "| 09:00-12:00 | January 26 | PySpark: Big Data Processing and Machine Learning with Python | [Link](https://www.appliedmldays.org/workshops/pyspark-big-data-processing-and-machine-learning-with-python) |\n",
      "| 09:00-16:30 | January 26 | TDA crash course: theory and practice for ML applications | [Link](https://www.appliedmldays.org/workshops/tda-crash-course-theory-and-practice-for-ml-applications) |\n",
      "| 09:00-16:30 | January 26 | Data exploration and preparation for Machine Learning | [Link](https://www.appliedmldays.org/workshops/data-exploration-and-preparation-for-machine-learning) |\n",
      "| 09:00-16:30 | January 26 | Learning and Processing over Networks | [Link](https://www.appliedmldays.org/workshops/learning-and-processing-over-networks) |\n",
      "| 09:00-16:30 | January 26 | Applied Machine Learning for Anomaly Detection on Equipment | [Link](https://www.appliedmldays.org/workshops/applied-machine-learning-for-anomaly-detection-on-equipment) |\n",
      "| 09:00-16:30 | January 26 | TensorFlow Basics - Saturday | [Link](https://www.appliedmldays.org/workshops/tensorflow-basics-saturday) |\n",
      "| 13:30-16:30 | January 26 | Language Technology and Finance | [Link](https://www.appliedmldays.org/workshops/language-technology-and-finance) |\n",
      "| 13:30-16:30 | January 26 | Using PySpark and interactive Jupyter notebook on Amazon Clusters | [Link](https://www.appliedmldays.org/workshops/using-pyspark-and-interactive-jupyter-notebook-on-amazon-clusters) |\n",
      "|  | January 27 | Policy-Making and Data Economy at the city level: utopia or reality? | [Link](https://www.appliedmldays.org/workshops/policy-making-and-data-economy-at-the-city-level-utopia-or-reality) |\n",
      "|  | January 27 | Advances in ML: Theory meets practice | [Link](https://www.appliedmldays.org/workshops/advances-in-ml-theory-meets-practice) |\n",
      "|  | January 27 | Industrial open data | [Link](https://www.appliedmldays.org/workshops/industrial-open-data) |\n",
      "|  | January 27 | Building Private-by-Design Voice Assistants with Snips | [Link](https://www.appliedmldays.org/workshops/building-private-by-design-voice-assistants-with-snips) |\n",
      "|  | January 27 | Artificial Curiosity: Intrinsic Motivation in Machines too! | [Link](https://www.appliedmldays.org/workshops/artificial-curiosity-intrinsic-motivation-in-machines-too) |\n",
      "| 09:00-12:00 | January 27 | Trust In AI - methods and use cases for debiasing and explaining of algorithms | [Link](https://www.appliedmldays.org/workshops/trust-in-ai-methods-and-use-cases-for-debiasing-and-explaining-of-algorithms) |\n",
      "| 09:00-12:00 | January 27 | Enabling Resilience with Remote Sensing | [Link](https://www.appliedmldays.org/workshops/enabling-resilience-with-remote-sensing) |\n",
      "| 09:00-16:30 | January 27 | Machine Learning for fake news detection: theory and practice | [Link](https://www.appliedmldays.org/workshops/machine-learning-for-fake-news-detection-theory-and-practice) |\n",
      "| 09:00-16:30 | January 27 | TensorFlow Basics - Sunday | [Link](https://www.appliedmldays.org/workshops/tensorflow-basics-sunday) |\n",
      "| 09:00-16:30 | January 27 | Crashcourse in R for machine learning | [Link](https://www.appliedmldays.org/workshops/crashcourse-in-r-for-machine-learning) |\n",
      "| 09:00-16:30 | January 27 | Machine Learning Competition: Tennis Prediction | [Link](https://www.appliedmldays.org/workshops/machine-learning-competition-tennis-prediction) |\n",
      "| 09:00-16:30 | January 27 | Machine Learning in Finance | [Link](https://www.appliedmldays.org/workshops/machine-learning-in-finance) |\n",
      "| 09:00-16:30 | January 27 | Blue Brain Nexus, a knowledge graph for data driven projects | [Link](https://www.appliedmldays.org/workshops/blue-brain-nexus-a-knowledge-graph-for-data-driven-projects) |\n",
      "\n"
     ]
    }
   ],
   "source": [
    "# Print markdown table\n",
    "print(s)"
   ]
  },
  {
   "cell_type": "code",
   "execution_count": null,
   "metadata": {
    "collapsed": true
   },
   "outputs": [],
   "source": []
  },
  {
   "cell_type": "code",
   "execution_count": null,
   "metadata": {
    "collapsed": true
   },
   "outputs": [],
   "source": []
  }
 ],
 "metadata": {
  "kernelspec": {
   "display_name": "Python 3.6 (ml)",
   "language": "python",
   "name": "ml36"
  },
  "language_info": {
   "codemirror_mode": {
    "name": "ipython",
    "version": 3
   },
   "file_extension": ".py",
   "mimetype": "text/x-python",
   "name": "python",
   "nbconvert_exporter": "python",
   "pygments_lexer": "ipython3",
   "version": "3.6.6"
  }
 },
 "nbformat": 4,
 "nbformat_minor": 2
}
