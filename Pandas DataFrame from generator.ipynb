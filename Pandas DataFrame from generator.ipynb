{
 "cells": [
  {
   "cell_type": "markdown",
   "metadata": {},
   "source": [
    "# DataFrame from generators\n",
    "\n",
    "This is a simple example of how to use Python generator functions to create [pandas][pandas] DataFrames.\n",
    "\n",
    "[pandas]: https://pandas.pydata.org/"
   ]
  },
  {
   "cell_type": "markdown",
   "metadata": {},
   "source": [
    "## Preliminaries"
   ]
  },
  {
   "cell_type": "code",
   "execution_count": 1,
   "metadata": {},
   "outputs": [],
   "source": [
    "# Import pandas\n",
    "import pandas as pd"
   ]
  },
  {
   "cell_type": "code",
   "execution_count": 2,
   "metadata": {},
   "outputs": [],
   "source": [
    "# Some dummy data\n",
    "birds = ['Owl', 'Crow', 'Dove', 'Bat']\n",
    "fishes = ['Shark', 'Cod', 'Sushi', 'Beaver']"
   ]
  },
  {
   "cell_type": "markdown",
   "metadata": {},
   "source": [
    "If you are not familiar with `zip()`, check out [the documentation][zip]. Here is a quick intro:\n",
    "\n",
    "[zip]: https://docs.python.org/3/library/functions.html#zip"
   ]
  },
  {
   "cell_type": "code",
   "execution_count": 3,
   "metadata": {},
   "outputs": [
    {
     "name": "stdout",
     "output_type": "stream",
     "text": [
      "Bird: Owl \t Fish: Shark\n",
      "Bird: Crow \t Fish: Cod\n",
      "Bird: Dove \t Fish: Sushi\n",
      "Bird: Bat \t Fish: Beaver\n"
     ]
    }
   ],
   "source": [
    "# Can be combined with zip, e.g.:\n",
    "for bird, fish in zip(birds, fishes):\n",
    "    print(f'Bird: {bird} \\t Fish: {fish}')"
   ]
  },
  {
   "cell_type": "markdown",
   "metadata": {},
   "source": [
    "Below is an example of a [generator function][gf]:\n",
    "\n",
    "[gf]: https://wiki.python.org/moin/Generators"
   ]
  },
  {
   "cell_type": "code",
   "execution_count": 4,
   "metadata": {},
   "outputs": [],
   "source": [
    "# generator function that yields pairs of birds and fishes\n",
    "def my_generator():\n",
    "    for bird, fish in zip(birds, fishes):\n",
    "        yield bird, fish"
   ]
  },
  {
   "cell_type": "code",
   "execution_count": 5,
   "metadata": {},
   "outputs": [
    {
     "name": "stdout",
     "output_type": "stream",
     "text": [
      "('Owl', 'Shark')\n",
      "('Crow', 'Cod')\n",
      "('Dove', 'Sushi')\n",
      "('Bat', 'Beaver')\n"
     ]
    }
   ],
   "source": [
    "# generator instances will be \"used up\"\n",
    "my_gen = my_generator()\n",
    "\n",
    "# Iterate over the generator with next()\n",
    "print(next(my_gen))\n",
    "print(next(my_gen))\n",
    "print(next(my_gen))\n",
    "print(next(my_gen))"
   ]
  },
  {
   "cell_type": "markdown",
   "metadata": {},
   "source": [
    "Now, there is only no \"pair\" left, so the next step will raise a `StopIteration`:"
   ]
  },
  {
   "cell_type": "code",
   "execution_count": 6,
   "metadata": {},
   "outputs": [
    {
     "name": "stdout",
     "output_type": "stream",
     "text": [
      "Generator has reach its end.\n"
     ]
    }
   ],
   "source": [
    "try:\n",
    "    next(my_gen)\n",
    "except StopIteration:\n",
    "    print('Generator has reach its end.')"
   ]
  },
  {
   "cell_type": "markdown",
   "metadata": {},
   "source": [
    "As long as the iterator is not infinite, it can be turned into a list (like any iterable):"
   ]
  },
  {
   "cell_type": "code",
   "execution_count": 7,
   "metadata": {},
   "outputs": [
    {
     "data": {
      "text/plain": [
       "[('Owl', 'Shark'), ('Crow', 'Cod'), ('Dove', 'Sushi'), ('Bat', 'Beaver')]"
      ]
     },
     "execution_count": 7,
     "metadata": {},
     "output_type": "execute_result"
    }
   ],
   "source": [
    "list(my_generator())"
   ]
  },
  {
   "cell_type": "code",
   "execution_count": 8,
   "metadata": {},
   "outputs": [
    {
     "name": "stdout",
     "output_type": "stream",
     "text": [
      "('Owl', 'Shark')\n",
      "('Crow', 'Cod')\n",
      "('Dove', 'Sushi')\n",
      "('Bat', 'Beaver')\n"
     ]
    }
   ],
   "source": [
    "# for-loops steps through iterators..\n",
    "for pair in my_generator():\n",
    "    print(pair)"
   ]
  },
  {
   "cell_type": "markdown",
   "metadata": {},
   "source": [
    "## Use with pandas\n",
    "Simply passing the generator function as `data`-parameter to [`pd.DataFrame`][df] will create a DataFrame with each yield's data as a row:\n",
    "\n",
    "[df]: https://pandas.pydata.org/pandas-docs/stable/generated/pandas.DataFrame.html"
   ]
  },
  {
   "cell_type": "code",
   "execution_count": 9,
   "metadata": {},
   "outputs": [
    {
     "data": {
      "text/html": [
       "<div>\n",
       "<style scoped>\n",
       "    .dataframe tbody tr th:only-of-type {\n",
       "        vertical-align: middle;\n",
       "    }\n",
       "\n",
       "    .dataframe tbody tr th {\n",
       "        vertical-align: top;\n",
       "    }\n",
       "\n",
       "    .dataframe thead th {\n",
       "        text-align: right;\n",
       "    }\n",
       "</style>\n",
       "<table border=\"1\" class=\"dataframe\">\n",
       "  <thead>\n",
       "    <tr style=\"text-align: right;\">\n",
       "      <th></th>\n",
       "      <th>Bird</th>\n",
       "      <th>Fish</th>\n",
       "    </tr>\n",
       "  </thead>\n",
       "  <tbody>\n",
       "    <tr>\n",
       "      <th>0</th>\n",
       "      <td>Owl</td>\n",
       "      <td>Shark</td>\n",
       "    </tr>\n",
       "    <tr>\n",
       "      <th>1</th>\n",
       "      <td>Crow</td>\n",
       "      <td>Cod</td>\n",
       "    </tr>\n",
       "    <tr>\n",
       "      <th>2</th>\n",
       "      <td>Dove</td>\n",
       "      <td>Sushi</td>\n",
       "    </tr>\n",
       "    <tr>\n",
       "      <th>3</th>\n",
       "      <td>Bat</td>\n",
       "      <td>Beaver</td>\n",
       "    </tr>\n",
       "  </tbody>\n",
       "</table>\n",
       "</div>"
      ],
      "text/plain": [
       "   Bird    Fish\n",
       "0   Owl   Shark\n",
       "1  Crow     Cod\n",
       "2  Dove   Sushi\n",
       "3   Bat  Beaver"
      ]
     },
     "execution_count": 9,
     "metadata": {},
     "output_type": "execute_result"
    }
   ],
   "source": [
    "# Create DataFrame\n",
    "columns = ['Bird', 'Fish']\n",
    "pd.DataFrame(my_generator(), columns=columns)"
   ]
  },
  {
   "cell_type": "code",
   "execution_count": null,
   "metadata": {},
   "outputs": [],
   "source": []
  }
 ],
 "metadata": {
  "kernelspec": {
   "display_name": "Python 3.6 (hct)",
   "language": "python",
   "name": "hct"
  },
  "language_info": {
   "codemirror_mode": {
    "name": "ipython",
    "version": 3
   },
   "file_extension": ".py",
   "mimetype": "text/x-python",
   "name": "python",
   "nbconvert_exporter": "python",
   "pygments_lexer": "ipython3",
   "version": "3.6.5"
  }
 },
 "nbformat": 4,
 "nbformat_minor": 2
}
