{
 "cells": [
  {
   "cell_type": "markdown",
   "metadata": {},
   "source": [
    "# DataFrame from generators\n",
    "\n",
    "This is a simple example of how to use Python generator functions to create [pandas][pandas] DataFrames.\n",
    "\n",
    "[pandas]: https://pandas.pydata.org/"
   ]
  },
  {
   "cell_type": "markdown",
   "metadata": {},
   "source": [
    "## Preliminaries"
   ]
  },
  {
   "cell_type": "code",
   "execution_count": 1,
   "metadata": {},
   "outputs": [],
   "source": [
    "# Import pandas\n",
    "import pandas as pd"
   ]
  },
  {
   "cell_type": "code",
   "execution_count": 2,
   "metadata": {},
   "outputs": [],
   "source": [
    "# Some dummy data\n",
    "some_birds = ['Owl', 'Crow', 'Dove', 'Bat']\n",
    "some_fish = ['Shark', 'Cod', 'Sushi', 'Beaver']"
   ]
  },
  {
   "cell_type": "markdown",
   "metadata": {},
   "source": [
    "If you are not familiar with `zip()`, check out [the documentation][zip]. Here is a quick intro:\n",
    "\n",
    "[zip]: https://docs.python.org/3/library/functions.html#zip"
   ]
  },
  {
   "cell_type": "code",
   "execution_count": 3,
   "metadata": {},
   "outputs": [
    {
     "name": "stdout",
     "output_type": "stream",
     "text": [
      "Bird: Owl \t Fish: Shark\n",
      "Bird: Crow \t Fish: Cod\n",
      "Bird: Dove \t Fish: Sushi\n",
      "Bird: Bat \t Fish: Beaver\n"
     ]
    }
   ],
   "source": [
    "# Can be combined with zip, e.g.:\n",
    "for bird, fish in zip(some_birds, some_fish):\n",
    "    print(f'Bird: {bird} \\t Fish: {fish}')"
   ]
  },
  {
   "cell_type": "markdown",
   "metadata": {},
   "source": [
    "Below is an example of a [generator function][gf]:\n",
    "\n",
    "[gf]: https://wiki.python.org/moin/Generators"
   ]
  },
  {
   "cell_type": "code",
   "execution_count": 4,
   "metadata": {},
   "outputs": [],
   "source": [
    "# generator function that yields pairs of birds and fishes\n",
    "def my_generator():\n",
    "    for bird, fish in zip(some_birds, some_fish):\n",
    "        yield bird, fish"
   ]
  },
  {
   "cell_type": "code",
   "execution_count": 5,
   "metadata": {},
   "outputs": [
    {
     "name": "stdout",
     "output_type": "stream",
     "text": [
      "('Owl', 'Shark')\n",
      "('Crow', 'Cod')\n",
      "('Dove', 'Sushi')\n",
      "('Bat', 'Beaver')\n"
     ]
    }
   ],
   "source": [
    "# generator instances will be \"used up\"\n",
    "my_gen = my_generator()\n",
    "\n",
    "# Iterate over the generator with next()\n",
    "print(next(my_gen))\n",
    "print(next(my_gen))\n",
    "print(next(my_gen))\n",
    "print(next(my_gen))"
   ]
  },
  {
   "cell_type": "markdown",
   "metadata": {},
   "source": [
    "Now, there is only no \"pair\" left, so the next step will raise a `StopIteration`:"
   ]
  },
  {
   "cell_type": "code",
   "execution_count": 6,
   "metadata": {},
   "outputs": [
    {
     "name": "stdout",
     "output_type": "stream",
     "text": [
      "Generator has reach its end.\n"
     ]
    }
   ],
   "source": [
    "try:\n",
    "    next(my_gen)\n",
    "except StopIteration:\n",
    "    print('Generator has reach its end.')"
   ]
  },
  {
   "cell_type": "markdown",
   "metadata": {},
   "source": [
    "As long as the iterator is not infinite, it can be turned into a list (like any iterable):"
   ]
  },
  {
   "cell_type": "code",
   "execution_count": 7,
   "metadata": {},
   "outputs": [
    {
     "data": {
      "text/plain": [
       "[('Owl', 'Shark'), ('Crow', 'Cod'), ('Dove', 'Sushi'), ('Bat', 'Beaver')]"
      ]
     },
     "execution_count": 7,
     "metadata": {},
     "output_type": "execute_result"
    }
   ],
   "source": [
    "list(my_generator())"
   ]
  },
  {
   "cell_type": "code",
   "execution_count": 8,
   "metadata": {},
   "outputs": [
    {
     "name": "stdout",
     "output_type": "stream",
     "text": [
      "('Owl', 'Shark')\n",
      "('Crow', 'Cod')\n",
      "('Dove', 'Sushi')\n",
      "('Bat', 'Beaver')\n"
     ]
    }
   ],
   "source": [
    "# for-loops steps through iterators..\n",
    "for pair in my_generator():\n",
    "    print(pair)"
   ]
  },
  {
   "cell_type": "markdown",
   "metadata": {},
   "source": [
    "## Use with pandas\n",
    "Simply passing the generator function as `data`-parameter to [`pd.DataFrame`][df] will create a DataFrame with each yield's data as a row.\n",
    "Each `yield` will produce a row, with the first element in the first column, second in second column, etc.\n",
    "\n",
    "[df]: https://pandas.pydata.org/pandas-docs/stable/generated/pandas.DataFrame.html\n",
    "[t]: https://www.tutorialspoint.com/python/python_tuples.htm"
   ]
  },
  {
   "cell_type": "code",
   "execution_count": 9,
   "metadata": {},
   "outputs": [
    {
     "data": {
      "text/html": [
       "<div>\n",
       "<style scoped>\n",
       "    .dataframe tbody tr th:only-of-type {\n",
       "        vertical-align: middle;\n",
       "    }\n",
       "\n",
       "    .dataframe tbody tr th {\n",
       "        vertical-align: top;\n",
       "    }\n",
       "\n",
       "    .dataframe thead th {\n",
       "        text-align: right;\n",
       "    }\n",
       "</style>\n",
       "<table border=\"1\" class=\"dataframe\">\n",
       "  <thead>\n",
       "    <tr style=\"text-align: right;\">\n",
       "      <th></th>\n",
       "      <th>Flyers</th>\n",
       "      <th>Swimmers</th>\n",
       "    </tr>\n",
       "  </thead>\n",
       "  <tbody>\n",
       "    <tr>\n",
       "      <th>0</th>\n",
       "      <td>Owl</td>\n",
       "      <td>Shark</td>\n",
       "    </tr>\n",
       "    <tr>\n",
       "      <th>1</th>\n",
       "      <td>Crow</td>\n",
       "      <td>Cod</td>\n",
       "    </tr>\n",
       "    <tr>\n",
       "      <th>2</th>\n",
       "      <td>Dove</td>\n",
       "      <td>Sushi</td>\n",
       "    </tr>\n",
       "    <tr>\n",
       "      <th>3</th>\n",
       "      <td>Bat</td>\n",
       "      <td>Beaver</td>\n",
       "    </tr>\n",
       "  </tbody>\n",
       "</table>\n",
       "</div>"
      ],
      "text/plain": [
       "  Flyers Swimmers\n",
       "0    Owl    Shark\n",
       "1   Crow      Cod\n",
       "2   Dove    Sushi\n",
       "3    Bat   Beaver"
      ]
     },
     "execution_count": 9,
     "metadata": {},
     "output_type": "execute_result"
    }
   ],
   "source": [
    "# Create DataFrame\n",
    "columns = ['Flyers', 'Swimmers']\n",
    "pd.DataFrame(my_generator(), columns=columns)"
   ]
  },
  {
   "cell_type": "markdown",
   "metadata": {},
   "source": [
    "### Complete example\n",
    "Here is a complete, isolated example:"
   ]
  },
  {
   "cell_type": "code",
   "execution_count": 10,
   "metadata": {},
   "outputs": [],
   "source": [
    "import numpy as np\n",
    "import pandas as pd"
   ]
  },
  {
   "cell_type": "code",
   "execution_count": 11,
   "metadata": {},
   "outputs": [
    {
     "data": {
      "text/html": [
       "<div>\n",
       "<style scoped>\n",
       "    .dataframe tbody tr th:only-of-type {\n",
       "        vertical-align: middle;\n",
       "    }\n",
       "\n",
       "    .dataframe tbody tr th {\n",
       "        vertical-align: top;\n",
       "    }\n",
       "\n",
       "    .dataframe thead th {\n",
       "        text-align: right;\n",
       "    }\n",
       "</style>\n",
       "<table border=\"1\" class=\"dataframe\">\n",
       "  <thead>\n",
       "    <tr style=\"text-align: right;\">\n",
       "      <th></th>\n",
       "      <th>Year</th>\n",
       "      <th>Month</th>\n",
       "      <th>Temp</th>\n",
       "      <th>Sky</th>\n",
       "    </tr>\n",
       "  </thead>\n",
       "  <tbody>\n",
       "    <tr>\n",
       "      <th>0</th>\n",
       "      <td>1999</td>\n",
       "      <td>1</td>\n",
       "      <td>Too warm</td>\n",
       "      <td>Froggy</td>\n",
       "    </tr>\n",
       "    <tr>\n",
       "      <th>1</th>\n",
       "      <td>1999</td>\n",
       "      <td>2</td>\n",
       "      <td>Too cold</td>\n",
       "      <td>Froggy</td>\n",
       "    </tr>\n",
       "    <tr>\n",
       "      <th>2</th>\n",
       "      <td>1999</td>\n",
       "      <td>3</td>\n",
       "      <td>Unknown</td>\n",
       "      <td>Hail</td>\n",
       "    </tr>\n",
       "    <tr>\n",
       "      <th>3</th>\n",
       "      <td>1999</td>\n",
       "      <td>4</td>\n",
       "      <td>Too cold</td>\n",
       "      <td>Rainy</td>\n",
       "    </tr>\n",
       "    <tr>\n",
       "      <th>4</th>\n",
       "      <td>1999</td>\n",
       "      <td>5</td>\n",
       "      <td>Too warm</td>\n",
       "      <td>Sunny</td>\n",
       "    </tr>\n",
       "    <tr>\n",
       "      <th>5</th>\n",
       "      <td>1999</td>\n",
       "      <td>6</td>\n",
       "      <td>Too warm</td>\n",
       "      <td>Sunny</td>\n",
       "    </tr>\n",
       "    <tr>\n",
       "      <th>6</th>\n",
       "      <td>1999</td>\n",
       "      <td>7</td>\n",
       "      <td>Nice</td>\n",
       "      <td>Sunny</td>\n",
       "    </tr>\n",
       "    <tr>\n",
       "      <th>7</th>\n",
       "      <td>1999</td>\n",
       "      <td>8</td>\n",
       "      <td>Too warm</td>\n",
       "      <td>Sunny</td>\n",
       "    </tr>\n",
       "    <tr>\n",
       "      <th>8</th>\n",
       "      <td>1999</td>\n",
       "      <td>9</td>\n",
       "      <td>Too warm</td>\n",
       "      <td>Hail</td>\n",
       "    </tr>\n",
       "    <tr>\n",
       "      <th>9</th>\n",
       "      <td>1999</td>\n",
       "      <td>10</td>\n",
       "      <td>Nice</td>\n",
       "      <td>Froggy</td>\n",
       "    </tr>\n",
       "    <tr>\n",
       "      <th>10</th>\n",
       "      <td>1999</td>\n",
       "      <td>11</td>\n",
       "      <td>Too cold</td>\n",
       "      <td>Hail</td>\n",
       "    </tr>\n",
       "    <tr>\n",
       "      <th>11</th>\n",
       "      <td>1999</td>\n",
       "      <td>12</td>\n",
       "      <td>Too cold</td>\n",
       "      <td>Froggy</td>\n",
       "    </tr>\n",
       "    <tr>\n",
       "      <th>12</th>\n",
       "      <td>2000</td>\n",
       "      <td>1</td>\n",
       "      <td>Nice</td>\n",
       "      <td>Froggy</td>\n",
       "    </tr>\n",
       "    <tr>\n",
       "      <th>13</th>\n",
       "      <td>2000</td>\n",
       "      <td>2</td>\n",
       "      <td>Nice</td>\n",
       "      <td>Unknown</td>\n",
       "    </tr>\n",
       "    <tr>\n",
       "      <th>14</th>\n",
       "      <td>2000</td>\n",
       "      <td>3</td>\n",
       "      <td>Too cold</td>\n",
       "      <td>Rainy</td>\n",
       "    </tr>\n",
       "    <tr>\n",
       "      <th>15</th>\n",
       "      <td>2000</td>\n",
       "      <td>4</td>\n",
       "      <td>Nice</td>\n",
       "      <td>Sunny</td>\n",
       "    </tr>\n",
       "    <tr>\n",
       "      <th>16</th>\n",
       "      <td>2000</td>\n",
       "      <td>5</td>\n",
       "      <td>Nice</td>\n",
       "      <td>Sunny</td>\n",
       "    </tr>\n",
       "    <tr>\n",
       "      <th>17</th>\n",
       "      <td>2000</td>\n",
       "      <td>6</td>\n",
       "      <td>Too warm</td>\n",
       "      <td>Clody</td>\n",
       "    </tr>\n",
       "    <tr>\n",
       "      <th>18</th>\n",
       "      <td>2000</td>\n",
       "      <td>7</td>\n",
       "      <td>Too warm</td>\n",
       "      <td>Clody</td>\n",
       "    </tr>\n",
       "    <tr>\n",
       "      <th>19</th>\n",
       "      <td>2000</td>\n",
       "      <td>8</td>\n",
       "      <td>Nice</td>\n",
       "      <td>Hail</td>\n",
       "    </tr>\n",
       "    <tr>\n",
       "      <th>20</th>\n",
       "      <td>2000</td>\n",
       "      <td>9</td>\n",
       "      <td>Nice</td>\n",
       "      <td>Clody</td>\n",
       "    </tr>\n",
       "    <tr>\n",
       "      <th>21</th>\n",
       "      <td>2000</td>\n",
       "      <td>10</td>\n",
       "      <td>Too cold</td>\n",
       "      <td>Clody</td>\n",
       "    </tr>\n",
       "    <tr>\n",
       "      <th>22</th>\n",
       "      <td>2000</td>\n",
       "      <td>11</td>\n",
       "      <td>Nice</td>\n",
       "      <td>Clody</td>\n",
       "    </tr>\n",
       "    <tr>\n",
       "      <th>23</th>\n",
       "      <td>2000</td>\n",
       "      <td>12</td>\n",
       "      <td>Nice</td>\n",
       "      <td>Sunny</td>\n",
       "    </tr>\n",
       "  </tbody>\n",
       "</table>\n",
       "</div>"
      ],
      "text/plain": [
       "    Year  Month      Temp      Sky\n",
       "0   1999      1  Too warm   Froggy\n",
       "1   1999      2  Too cold   Froggy\n",
       "2   1999      3   Unknown     Hail\n",
       "3   1999      4  Too cold    Rainy\n",
       "4   1999      5  Too warm    Sunny\n",
       "5   1999      6  Too warm    Sunny\n",
       "6   1999      7      Nice    Sunny\n",
       "7   1999      8  Too warm    Sunny\n",
       "8   1999      9  Too warm     Hail\n",
       "9   1999     10      Nice   Froggy\n",
       "10  1999     11  Too cold     Hail\n",
       "11  1999     12  Too cold   Froggy\n",
       "12  2000      1      Nice   Froggy\n",
       "13  2000      2      Nice  Unknown\n",
       "14  2000      3  Too cold    Rainy\n",
       "15  2000      4      Nice    Sunny\n",
       "16  2000      5      Nice    Sunny\n",
       "17  2000      6  Too warm    Clody\n",
       "18  2000      7  Too warm    Clody\n",
       "19  2000      8      Nice     Hail\n",
       "20  2000      9      Nice    Clody\n",
       "21  2000     10  Too cold    Clody\n",
       "22  2000     11      Nice    Clody\n",
       "23  2000     12      Nice    Sunny"
      ]
     },
     "execution_count": 11,
     "metadata": {},
     "output_type": "execute_result"
    }
   ],
   "source": [
    "def get_data_from_imagined_file(year, month):\n",
    "    t_probs = [0.4, 0.4, 0.1, 0.1] if 4 < month < 10 else [0.01, 0.39, 0.5, 0.1]\n",
    "    w_probs = [0.3, 0.1, 0.4, 0.1, 0.05, 0.05] if year >= 2000 else [0.1, 0.1, 0.2, 0.2, 0.35, 0.05]\n",
    "    temp = np.random.choice(['Too warm', 'Nice', 'Too cold', 'Unknown'], p=t_probs)\n",
    "    weather = np.random.choice(['Clody', 'Rainy', 'Sunny', 'Hail', 'Froggy', 'Unknown'], p=w_probs)\n",
    "    return temp, weather\n",
    "\n",
    "def create_weather_data_from_some_organized_folder_structure():\n",
    "    for year in range(1999, 2001):\n",
    "        for month in range(1, 13):\n",
    "            temperature, weather = get_data_from_imagined_file(year, month)\n",
    "            yield year, month, temperature, weather\n",
    "            \n",
    "columns = ['Year', 'Month', 'Temp', 'Sky']\n",
    "data = create_weather_data_from_some_organized_folder_structure()\n",
    "pd.DataFrame(data, columns=columns)"
   ]
  }
 ],
 "metadata": {
  "kernelspec": {
   "display_name": "Python 3.6 (hct)",
   "language": "python",
   "name": "hct"
  },
  "language_info": {
   "codemirror_mode": {
    "name": "ipython",
    "version": 3
   },
   "file_extension": ".py",
   "mimetype": "text/x-python",
   "name": "python",
   "nbconvert_exporter": "python",
   "pygments_lexer": "ipython3",
   "version": "3.6.5"
  }
 },
 "nbformat": 4,
 "nbformat_minor": 2
}
